{
 "cells": [
  {
   "cell_type": "code",
   "execution_count": 1,
   "metadata": {
    "id": "l-LsDtHywhq-"
   },
   "outputs": [],
   "source": [
    "import numpy as np\n",
    "import csv\n",
    "import pandas as pd\n",
    "import matplotlib.pyplot as plt\n",
    "import astropy \n",
    "import astropy.units as u\n",
    "from astropy.coordinates import SkyCoord"
   ]
  },
  {
   "cell_type": "code",
   "execution_count": 2,
   "metadata": {
    "id": "MyF_ExtXwpzs"
   },
   "outputs": [],
   "source": [
    "lookup_table = pd.read_csv(\"BBHTable.csv\")"
   ]
  },
  {
   "cell_type": "code",
   "execution_count": 3,
   "metadata": {
    "id": "j1c699aPxFGm"
   },
   "outputs": [],
   "source": [
    "lookup_table = lookup_table.drop(index=lookup_table.index[::2])\n",
    "table = lookup_table"
   ]
  },
  {
   "cell_type": "markdown",
   "metadata": {
    "id": "A3tfF8TxzG9M"
   },
   "source": [
    "# Lookup table : Table shared in the beginning"
   ]
  },
  {
   "cell_type": "code",
   "execution_count": 4,
   "metadata": {
    "id": "URv4gOtYxK3O"
   },
   "outputs": [],
   "source": [
    "lookup_table = lookup_table.drop(columns = ['Target Name','Target Descrip','RA (J2000)','Dec (J2000)','Start Time','Instrument','Ang Sep (\\')'])"
   ]
  },
  {
   "cell_type": "code",
   "execution_count": 5,
   "metadata": {
    "colab": {
     "base_uri": "https://localhost:8080/"
    },
    "id": "yDUO6W6YxQ8Y",
    "outputId": "60bd5d51-5e8e-4682-ea33-f897b8efaec7"
   },
   "outputs": [
    {
     "data": {
      "text/plain": [
       "1.5149452054794519"
      ]
     },
     "execution_count": 5,
     "metadata": {},
     "output_type": "execute_result"
    }
   ],
   "source": [
    "CW_mean = table[table[\"Filters/Gratings\"] == 'F160W']['Central Wavelength'].mean()\n",
    "Mag_mean = table[table[\"Filters/Gratings\"] == 'F160W']['iMAG'].mean()\n",
    "z_mean = table[table[\"Filters/Gratings\"] == 'F160W']['z'].mean()\n",
    "z_mean"
   ]
  },
  {
   "cell_type": "markdown",
   "metadata": {
    "id": "cAsH4wDHkY5u"
   },
   "source": [
    "## First method of using set tolerances for Central Wavelength, Magnitude and Redshift "
   ]
  },
  {
   "cell_type": "code",
   "execution_count": 6,
   "metadata": {
    "id": "Wj-waa3oyQRt"
   },
   "outputs": [],
   "source": [
    "CW_low = CW_mean-700\n",
    "CW_up = CW_mean+700\n",
    "Mag_low = Mag_mean-0.5\n",
    "Mag_up = Mag_mean+0.5\n",
    "z_low = z_mean-0.1\n",
    "z_up = z_mean+0.1"
   ]
  },
  {
   "cell_type": "code",
   "execution_count": 7,
   "metadata": {
    "id": "AKZPqxZVyVOb"
   },
   "outputs": [],
   "source": [
    "table_iters = table[(table['Central Wavelength']>=CW_low) & (table['Central Wavelength']<=CW_up)]\n",
    "#table_iters = table_iters[(table_iters['iMAG']>=Mag_low) & (table_iters['iMAG']<=Mag_up)]\n",
    "#table_iters = table_iters[(table_iters['z']>=z_low) & (table_iters['z']<=z_up)]"
   ]
  },
  {
   "cell_type": "code",
   "execution_count": 8,
   "metadata": {
    "id": "4UmKHmUyzO-0"
   },
   "outputs": [],
   "source": [
    "table_i = table_iters[(table_iters['Exp Time']>=150)]"
   ]
  },
  {
   "cell_type": "markdown",
   "metadata": {
    "id": "1vXkmjxukjyD"
   },
   "source": [
    "### Final set of possible candidates based solely on the tolerance set on select parameters"
   ]
  },
  {
   "cell_type": "code",
   "execution_count": 9,
   "metadata": {
    "colab": {
     "base_uri": "https://localhost:8080/",
     "height": 869
    },
    "id": "CCnYmP5xzRyY",
    "outputId": "ae3466f7-b0f7-41a0-9c61-c1fdc53c5445"
   },
   "outputs": [
    {
     "data": {
      "text/html": [
       "<div>\n",
       "<style scoped>\n",
       "    .dataframe tbody tr th:only-of-type {\n",
       "        vertical-align: middle;\n",
       "    }\n",
       "\n",
       "    .dataframe tbody tr th {\n",
       "        vertical-align: top;\n",
       "    }\n",
       "\n",
       "    .dataframe thead th {\n",
       "        text-align: right;\n",
       "    }\n",
       "</style>\n",
       "<table border=\"1\" class=\"dataframe\">\n",
       "  <thead>\n",
       "    <tr style=\"text-align: right;\">\n",
       "      <th></th>\n",
       "      <th>Entry</th>\n",
       "      <th>SDSS Name</th>\n",
       "      <th>Target Name</th>\n",
       "      <th>Target Descrip</th>\n",
       "      <th>RA (J2000)</th>\n",
       "      <th>Dec (J2000)</th>\n",
       "      <th>z</th>\n",
       "      <th>iMAG</th>\n",
       "      <th>Start Time</th>\n",
       "      <th>Exp Time</th>\n",
       "      <th>Instrument</th>\n",
       "      <th>Filters/Gratings</th>\n",
       "      <th>Central Wavelength</th>\n",
       "      <th>Ang Sep (')</th>\n",
       "    </tr>\n",
       "  </thead>\n",
       "  <tbody>\n",
       "    <tr>\n",
       "      <th>15</th>\n",
       "      <td>515.0</td>\n",
       "      <td>001306.15+000431.9</td>\n",
       "      <td>Q0010-0012</td>\n",
       "      <td>GALAXY;QSO;LYMAN ALPHA CLOUD</td>\n",
       "      <td>00 13 05.864</td>\n",
       "      <td>+00 04 37.69</td>\n",
       "      <td>2.1638</td>\n",
       "      <td>-27.44</td>\n",
       "      <td>1998-10-27 01:08:32</td>\n",
       "      <td>1023.908</td>\n",
       "      <td>NICMOS</td>\n",
       "      <td>F160W</td>\n",
       "      <td>16059.900</td>\n",
       "      <td>0.120000</td>\n",
       "    </tr>\n",
       "    <tr>\n",
       "      <th>21</th>\n",
       "      <td>614.0</td>\n",
       "      <td>001602.40-001225.0</td>\n",
       "      <td>Q0013-0029</td>\n",
       "      <td>GALAXY;QSO;LYMAN ALPHA CLOUD</td>\n",
       "      <td>00 16 02.446</td>\n",
       "      <td>-00 12 26.01</td>\n",
       "      <td>2.0876</td>\n",
       "      <td>-28.34</td>\n",
       "      <td>1998-10-06 10:07:21</td>\n",
       "      <td>767.953</td>\n",
       "      <td>NICMOS</td>\n",
       "      <td>F160W</td>\n",
       "      <td>16059.900</td>\n",
       "      <td>0.019000</td>\n",
       "    </tr>\n",
       "    <tr>\n",
       "      <th>41</th>\n",
       "      <td>790.0</td>\n",
       "      <td>002025.22+154054.7</td>\n",
       "      <td>3C9</td>\n",
       "      <td>GALAXY;JET;KNOT;NUCLEUS;QUASAR;RADIO GALAXY</td>\n",
       "      <td>00 20 25.200</td>\n",
       "      <td>+15 40 55.00</td>\n",
       "      <td>2.0087</td>\n",
       "      <td>-28.66</td>\n",
       "      <td>2014-12-22 06:43:28</td>\n",
       "      <td>897.697</td>\n",
       "      <td>WFC3</td>\n",
       "      <td>F160W</td>\n",
       "      <td>15369.176</td>\n",
       "      <td>0.005000</td>\n",
       "    </tr>\n",
       "    <tr>\n",
       "      <th>69</th>\n",
       "      <td>1377.0</td>\n",
       "      <td>003516.88-104731.2</td>\n",
       "      <td>J0035-1047</td>\n",
       "      <td>GALAXY;QUASAR</td>\n",
       "      <td>00 35 16.880</td>\n",
       "      <td>-10 47 31.20</td>\n",
       "      <td>0.7967</td>\n",
       "      <td>-24.77</td>\n",
       "      <td>2013-09-17 11:28:43</td>\n",
       "      <td>2055.034</td>\n",
       "      <td>WFC3</td>\n",
       "      <td>F160W</td>\n",
       "      <td>15369.176</td>\n",
       "      <td>0.000393</td>\n",
       "    </tr>\n",
       "    <tr>\n",
       "      <th>79</th>\n",
       "      <td>1635.0</td>\n",
       "      <td>004041.39-005537.3</td>\n",
       "      <td>UM265</td>\n",
       "      <td>GALAXY;GRAVITATIONAL LENS</td>\n",
       "      <td>00 40 41.418</td>\n",
       "      <td>-00 55 39.93</td>\n",
       "      <td>2.0891</td>\n",
       "      <td>-27.95</td>\n",
       "      <td>1998-09-09 11:16:14</td>\n",
       "      <td>2559.756</td>\n",
       "      <td>NICMOS</td>\n",
       "      <td>F160W</td>\n",
       "      <td>16059.900</td>\n",
       "      <td>0.043000</td>\n",
       "    </tr>\n",
       "    <tr>\n",
       "      <th>...</th>\n",
       "      <td>...</td>\n",
       "      <td>...</td>\n",
       "      <td>...</td>\n",
       "      <td>...</td>\n",
       "      <td>...</td>\n",
       "      <td>...</td>\n",
       "      <td>...</td>\n",
       "      <td>...</td>\n",
       "      <td>...</td>\n",
       "      <td>...</td>\n",
       "      <td>...</td>\n",
       "      <td>...</td>\n",
       "      <td>...</td>\n",
       "      <td>...</td>\n",
       "    </tr>\n",
       "    <tr>\n",
       "      <th>4805</th>\n",
       "      <td>104663.0</td>\n",
       "      <td>ICCJ04010</td>\n",
       "      <td>233123.39-105213.7</td>\n",
       "      <td>RASS6193</td>\n",
       "      <td>23 31 23.988</td>\n",
       "      <td>-10 52 07.50</td>\n",
       "      <td>0.6109</td>\n",
       "      <td>-23.92</td>\n",
       "      <td>2014-05-09 22:02:19</td>\n",
       "      <td>2243.087</td>\n",
       "      <td>WFC3</td>\n",
       "      <td>F160W</td>\n",
       "      <td>15369.176</td>\n",
       "      <td>0.203000</td>\n",
       "    </tr>\n",
       "    <tr>\n",
       "      <th>4829</th>\n",
       "      <td>105310.0</td>\n",
       "      <td>N4QM18010</td>\n",
       "      <td>234819.58+005721.4</td>\n",
       "      <td>Q2345+007</td>\n",
       "      <td>23 48 19.539</td>\n",
       "      <td>+00 57 16.22</td>\n",
       "      <td>2.1632</td>\n",
       "      <td>-27.08</td>\n",
       "      <td>1998-08-29 20:21:41</td>\n",
       "      <td>2559.756</td>\n",
       "      <td>NICMOS</td>\n",
       "      <td>F160W</td>\n",
       "      <td>16059.900</td>\n",
       "      <td>0.095000</td>\n",
       "    </tr>\n",
       "    <tr>\n",
       "      <th>4835</th>\n",
       "      <td>105409.0</td>\n",
       "      <td>N4PX93LPQ</td>\n",
       "      <td>235057.87-005209.9</td>\n",
       "      <td>Q2348-0108</td>\n",
       "      <td>23 50 57.827</td>\n",
       "      <td>-00 52 09.95</td>\n",
       "      <td>3.0253</td>\n",
       "      <td>-28.54</td>\n",
       "      <td>1998-09-18 23:04:59</td>\n",
       "      <td>767.953</td>\n",
       "      <td>NICMOS</td>\n",
       "      <td>F160W</td>\n",
       "      <td>16059.900</td>\n",
       "      <td>0.003000</td>\n",
       "    </tr>\n",
       "    <tr>\n",
       "      <th>4847</th>\n",
       "      <td>105455.0</td>\n",
       "      <td>N9OG23010</td>\n",
       "      <td>235156.12-010913.3</td>\n",
       "      <td>PG2349-014</td>\n",
       "      <td>23 51 56.160</td>\n",
       "      <td>-01 09 15.96</td>\n",
       "      <td>0.1739</td>\n",
       "      <td>-24.31</td>\n",
       "      <td>2006-07-01 11:00:31</td>\n",
       "      <td>2559.756</td>\n",
       "      <td>NICMOS</td>\n",
       "      <td>F160W</td>\n",
       "      <td>16030.400</td>\n",
       "      <td>0.043000</td>\n",
       "    </tr>\n",
       "    <tr>\n",
       "      <th>4857</th>\n",
       "      <td>105496.0</td>\n",
       "      <td>ICOP09010</td>\n",
       "      <td>235253.51-002850.4</td>\n",
       "      <td>Q2352</td>\n",
       "      <td>23 52 53.540</td>\n",
       "      <td>-00 28 51.50</td>\n",
       "      <td>1.6236</td>\n",
       "      <td>-27.27</td>\n",
       "      <td>2015-10-11 05:45:24</td>\n",
       "      <td>2611.751</td>\n",
       "      <td>WFC3</td>\n",
       "      <td>F160W</td>\n",
       "      <td>15369.176</td>\n",
       "      <td>0.018000</td>\n",
       "    </tr>\n",
       "  </tbody>\n",
       "</table>\n",
       "<p>350 rows × 14 columns</p>\n",
       "</div>"
      ],
      "text/plain": [
       "         Entry           SDSS Name         Target Name  \\\n",
       "15       515.0  001306.15+000431.9          Q0010-0012   \n",
       "21       614.0  001602.40-001225.0          Q0013-0029   \n",
       "41       790.0  002025.22+154054.7                 3C9   \n",
       "69      1377.0  003516.88-104731.2          J0035-1047   \n",
       "79      1635.0  004041.39-005537.3               UM265   \n",
       "...        ...                 ...                 ...   \n",
       "4805  104663.0           ICCJ04010  233123.39-105213.7   \n",
       "4829  105310.0           N4QM18010  234819.58+005721.4   \n",
       "4835  105409.0           N4PX93LPQ  235057.87-005209.9   \n",
       "4847  105455.0           N9OG23010  235156.12-010913.3   \n",
       "4857  105496.0           ICOP09010  235253.51-002850.4   \n",
       "\n",
       "                                   Target Descrip    RA (J2000)   Dec (J2000)  \\\n",
       "15                   GALAXY;QSO;LYMAN ALPHA CLOUD  00 13 05.864  +00 04 37.69   \n",
       "21                   GALAXY;QSO;LYMAN ALPHA CLOUD  00 16 02.446  -00 12 26.01   \n",
       "41    GALAXY;JET;KNOT;NUCLEUS;QUASAR;RADIO GALAXY  00 20 25.200  +15 40 55.00   \n",
       "69                                  GALAXY;QUASAR  00 35 16.880  -10 47 31.20   \n",
       "79                      GALAXY;GRAVITATIONAL LENS  00 40 41.418  -00 55 39.93   \n",
       "...                                           ...           ...           ...   \n",
       "4805                                     RASS6193  23 31 23.988  -10 52 07.50   \n",
       "4829                                    Q2345+007  23 48 19.539  +00 57 16.22   \n",
       "4835                                   Q2348-0108  23 50 57.827  -00 52 09.95   \n",
       "4847                                   PG2349-014  23 51 56.160  -01 09 15.96   \n",
       "4857                                        Q2352  23 52 53.540  -00 28 51.50   \n",
       "\n",
       "           z   iMAG           Start Time  Exp Time Instrument  \\\n",
       "15    2.1638 -27.44  1998-10-27 01:08:32  1023.908     NICMOS   \n",
       "21    2.0876 -28.34  1998-10-06 10:07:21   767.953     NICMOS   \n",
       "41    2.0087 -28.66  2014-12-22 06:43:28   897.697       WFC3   \n",
       "69    0.7967 -24.77  2013-09-17 11:28:43  2055.034       WFC3   \n",
       "79    2.0891 -27.95  1998-09-09 11:16:14  2559.756     NICMOS   \n",
       "...      ...    ...                  ...       ...        ...   \n",
       "4805  0.6109 -23.92  2014-05-09 22:02:19  2243.087       WFC3   \n",
       "4829  2.1632 -27.08  1998-08-29 20:21:41  2559.756     NICMOS   \n",
       "4835  3.0253 -28.54  1998-09-18 23:04:59   767.953     NICMOS   \n",
       "4847  0.1739 -24.31  2006-07-01 11:00:31  2559.756     NICMOS   \n",
       "4857  1.6236 -27.27  2015-10-11 05:45:24  2611.751       WFC3   \n",
       "\n",
       "     Filters/Gratings  Central Wavelength  Ang Sep (')  \n",
       "15              F160W           16059.900     0.120000  \n",
       "21              F160W           16059.900     0.019000  \n",
       "41              F160W           15369.176     0.005000  \n",
       "69              F160W           15369.176     0.000393  \n",
       "79              F160W           16059.900     0.043000  \n",
       "...               ...                 ...          ...  \n",
       "4805            F160W           15369.176     0.203000  \n",
       "4829            F160W           16059.900     0.095000  \n",
       "4835            F160W           16059.900     0.003000  \n",
       "4847            F160W           16030.400     0.043000  \n",
       "4857            F160W           15369.176     0.018000  \n",
       "\n",
       "[350 rows x 14 columns]"
      ]
     },
     "execution_count": 9,
     "metadata": {},
     "output_type": "execute_result"
    }
   ],
   "source": [
    "table_i"
   ]
  },
  {
   "cell_type": "code",
   "execution_count": 10,
   "metadata": {
    "id": "zDZxoKtX4TN9"
   },
   "outputs": [],
   "source": [
    "# Plot the redshifts vs iMag \n",
    "red = table_i[[\"z\"]].to_numpy()\n",
    "Magnitude = table_i[[\"iMAG\"]].to_numpy()"
   ]
  },
  {
   "cell_type": "markdown",
   "metadata": {
    "id": "FBDsb-UxlPIX"
   },
   "source": [
    "## Magnitude vs Redshift for created sample.."
   ]
  },
  {
   "cell_type": "code",
   "execution_count": 11,
   "metadata": {
    "colab": {
     "base_uri": "https://localhost:8080/",
     "height": 505
    },
    "id": "TlQLuLk2jrah",
    "outputId": "d8785eca-517f-4492-b27c-d2104fa330d5"
   },
   "outputs": [
    {
     "data": {
      "text/plain": [
       "Text(0, 0.5, 'Luminosity in iMagnitude')"
      ]
     },
     "execution_count": 11,
     "metadata": {},
     "output_type": "execute_result"
    },
    {
     "data": {
      "image/png": "[encoded data removed]",
      "text/plain": [
       "<Figure size 1000x500 with 1 Axes>"
      ]
     },
     "metadata": {},
     "output_type": "display_data"
    }
   ],
   "source": [
    "fig = plt.figure(figsize=(10,5))\n",
    "plt.scatter(red,Magnitude)\n",
    "plt.title('Magnitude vs Redshift')\n",
    "plt.xlabel('Redshift (z)')\n",
    "plt.gca().invert_yaxis()\n",
    "plt.ylabel('Luminosity in iMagnitude')\n"
   ]
  },
  {
   "cell_type": "markdown",
   "metadata": {
    "id": "7NJnRsPJXTZs"
   },
   "source": []
  },
  {
   "cell_type": "markdown",
   "metadata": {
    "id": "rCeEDtMJlWJu"
   },
   "source": [
    "#Getting the targets"
   ]
  },
  {
   "cell_type": "code",
   "execution_count": 12,
   "metadata": {
    "colab": {
     "base_uri": "https://localhost:8080/",
     "height": 300
    },
    "id": "lllobu6sKZFP",
    "outputId": "347abb19-b478-4374-d344-d0fa45816bd0"
   },
   "outputs": [
    {
     "data": {
      "text/html": [
       "<div>\n",
       "<style scoped>\n",
       "    .dataframe tbody tr th:only-of-type {\n",
       "        vertical-align: middle;\n",
       "    }\n",
       "\n",
       "    .dataframe tbody tr th {\n",
       "        vertical-align: top;\n",
       "    }\n",
       "\n",
       "    .dataframe thead th {\n",
       "        text-align: right;\n",
       "    }\n",
       "</style>\n",
       "<table border=\"1\" class=\"dataframe\">\n",
       "  <thead>\n",
       "    <tr style=\"text-align: right;\">\n",
       "      <th></th>\n",
       "      <th>name</th>\n",
       "      <th>filename</th>\n",
       "      <th>z</th>\n",
       "      <th>RA</th>\n",
       "      <th>DEC</th>\n",
       "      <th>N_psf</th>\n",
       "      <th>N_sersic</th>\n",
       "      <th>ra_psf</th>\n",
       "      <th>dec_psf</th>\n",
       "      <th>ref</th>\n",
       "    </tr>\n",
       "  </thead>\n",
       "  <tbody>\n",
       "    <tr>\n",
       "      <th>0</th>\n",
       "      <td>J0847+3732</td>\n",
       "      <td>ie4701_drz</td>\n",
       "      <td>0.4534</td>\n",
       "      <td>131.816817</td>\n",
       "      <td>37.538293</td>\n",
       "      <td>1</td>\n",
       "      <td>1</td>\n",
       "      <td>-99</td>\n",
       "      <td>-99</td>\n",
       "      <td>Guo19</td>\n",
       "    </tr>\n",
       "    <tr>\n",
       "      <th>1</th>\n",
       "      <td>J0852+2004</td>\n",
       "      <td>ie4702_drz</td>\n",
       "      <td>0.4615</td>\n",
       "      <td>133.154237</td>\n",
       "      <td>20.069706</td>\n",
       "      <td>1</td>\n",
       "      <td>1</td>\n",
       "      <td>-99</td>\n",
       "      <td>-99</td>\n",
       "      <td>Guo19</td>\n",
       "    </tr>\n",
       "    <tr>\n",
       "      <th>2</th>\n",
       "      <td>J0928+6025</td>\n",
       "      <td>ie4703_drz</td>\n",
       "      <td>0.2959</td>\n",
       "      <td>142.158241</td>\n",
       "      <td>60.422484</td>\n",
       "      <td>1</td>\n",
       "      <td>1</td>\n",
       "      <td>-99</td>\n",
       "      <td>-99</td>\n",
       "      <td>Guo19</td>\n",
       "    </tr>\n",
       "    <tr>\n",
       "      <th>3</th>\n",
       "      <td>J1112+1813</td>\n",
       "      <td>ie4704_drz</td>\n",
       "      <td>0.1952</td>\n",
       "      <td>168.128759</td>\n",
       "      <td>18.219798</td>\n",
       "      <td>1</td>\n",
       "      <td>1</td>\n",
       "      <td>-99</td>\n",
       "      <td>-99</td>\n",
       "      <td>Guo19</td>\n",
       "    </tr>\n",
       "    <tr>\n",
       "      <th>4</th>\n",
       "      <td>J1229-0035</td>\n",
       "      <td>ie4705_drz</td>\n",
       "      <td>0.4498</td>\n",
       "      <td>187.289675</td>\n",
       "      <td>-0.591741</td>\n",
       "      <td>1</td>\n",
       "      <td>1</td>\n",
       "      <td>-99</td>\n",
       "      <td>-99</td>\n",
       "      <td>Shen13</td>\n",
       "    </tr>\n",
       "    <tr>\n",
       "      <th>5</th>\n",
       "      <td>J1345+1144</td>\n",
       "      <td>ie4706_drz</td>\n",
       "      <td>0.1264</td>\n",
       "      <td>206.452052</td>\n",
       "      <td>11.745387</td>\n",
       "      <td>1</td>\n",
       "      <td>1</td>\n",
       "      <td>-99</td>\n",
       "      <td>-99</td>\n",
       "      <td>Liu14</td>\n",
       "    </tr>\n",
       "    <tr>\n",
       "      <th>6</th>\n",
       "      <td>J1410+3643</td>\n",
       "      <td>ie4707_drz</td>\n",
       "      <td>0.4495</td>\n",
       "      <td>212.585743</td>\n",
       "      <td>36.722997</td>\n",
       "      <td>1</td>\n",
       "      <td>1</td>\n",
       "      <td>-99</td>\n",
       "      <td>-99</td>\n",
       "      <td>Guo19</td>\n",
       "    </tr>\n",
       "    <tr>\n",
       "      <th>7</th>\n",
       "      <td>J1537+0055</td>\n",
       "      <td>ie4708_drz</td>\n",
       "      <td>0.1365</td>\n",
       "      <td>234.274805</td>\n",
       "      <td>0.922998</td>\n",
       "      <td>1</td>\n",
       "      <td>1</td>\n",
       "      <td>-99</td>\n",
       "      <td>-99</td>\n",
       "      <td>Guo19</td>\n",
       "    </tr>\n",
       "  </tbody>\n",
       "</table>\n",
       "</div>"
      ],
      "text/plain": [
       "         name    filename       z          RA        DEC  N_psf  N_sersic  \\\n",
       "0  J0847+3732  ie4701_drz  0.4534  131.816817  37.538293      1         1   \n",
       "1  J0852+2004  ie4702_drz  0.4615  133.154237  20.069706      1         1   \n",
       "2  J0928+6025  ie4703_drz  0.2959  142.158241  60.422484      1         1   \n",
       "3  J1112+1813  ie4704_drz  0.1952  168.128759  18.219798      1         1   \n",
       "4  J1229-0035  ie4705_drz  0.4498  187.289675  -0.591741      1         1   \n",
       "5  J1345+1144  ie4706_drz  0.1264  206.452052  11.745387      1         1   \n",
       "6  J1410+3643  ie4707_drz  0.4495  212.585743  36.722997      1         1   \n",
       "7  J1537+0055  ie4708_drz  0.1365  234.274805   0.922998      1         1   \n",
       "\n",
       "   ra_psf  dec_psf     ref  \n",
       "0     -99      -99   Guo19  \n",
       "1     -99      -99   Guo19  \n",
       "2     -99      -99   Guo19  \n",
       "3     -99      -99   Guo19  \n",
       "4     -99      -99  Shen13  \n",
       "5     -99      -99   Liu14  \n",
       "6     -99      -99   Guo19  \n",
       "7     -99      -99   Guo19  "
      ]
     },
     "execution_count": 12,
     "metadata": {},
     "output_type": "execute_result"
    }
   ],
   "source": [
    "targets = pd.read_csv('8targets.csv', sep=',')\n",
    "targets.rename(columns = {'ra':'RA'},inplace=True)\n",
    "targets.rename(columns = {'dec':'DEC'},inplace=True)\n",
    "targets"
   ]
  },
  {
   "cell_type": "code",
   "execution_count": 13,
   "metadata": {
    "colab": {
     "base_uri": "https://localhost:8080/",
     "height": 448
    },
    "id": "E02rWbQ0uRlD",
    "outputId": "945116d4-b820-4417-f91e-a6eed5c638b8"
   },
   "outputs": [
    {
     "data": {
      "text/plain": [
       "[<matplotlib.lines.Line2D at 0x7ff35cc67d30>]"
      ]
     },
     "execution_count": 13,
     "metadata": {},
     "output_type": "execute_result"
    },
    {
     "data": {
      "image/png": "[encoded data removed]",
      "text/plain": [
       "<Figure size 640x480 with 1 Axes>"
      ]
     },
     "metadata": {},
     "output_type": "display_data"
    }
   ],
   "source": [
    "plt.plot(targets['RA'],targets['DEC'],'o')"
   ]
  },
  {
   "cell_type": "markdown",
   "metadata": {
    "id": "ugAOVQtTlanr"
   },
   "source": [
    "Need to compare RA and DEC for these targets to those in DR7 Catalog to get similar candidates in same location and then get MI_Z2 values for the 8 targets"
   ]
  },
  {
   "cell_type": "markdown",
   "metadata": {
    "id": "y-wqnTo_lj37"
   },
   "source": [
    "The DR7 Catalog : "
   ]
  },
  {
   "cell_type": "code",
   "execution_count": 14,
   "metadata": {
    "colab": {
     "base_uri": "https://localhost:8080/",
     "height": 423
    },
    "id": "cwzU50soUBk2",
    "outputId": "5df14e4a-c83b-4774-84bf-8ddf6bfdf99e"
   },
   "outputs": [
    {
     "data": {
      "text/html": [
       "<div>\n",
       "<style scoped>\n",
       "    .dataframe tbody tr th:only-of-type {\n",
       "        vertical-align: middle;\n",
       "    }\n",
       "\n",
       "    .dataframe tbody tr th {\n",
       "        vertical-align: top;\n",
       "    }\n",
       "\n",
       "    .dataframe thead th {\n",
       "        text-align: right;\n",
       "    }\n",
       "</style>\n",
       "<table border=\"1\" class=\"dataframe\">\n",
       "  <thead>\n",
       "    <tr style=\"text-align: right;\">\n",
       "      <th></th>\n",
       "      <th>SDSS_NAME</th>\n",
       "      <th>RA</th>\n",
       "      <th>DEC</th>\n",
       "      <th>MI_Z2</th>\n",
       "    </tr>\n",
       "  </thead>\n",
       "  <tbody>\n",
       "    <tr>\n",
       "      <th>0</th>\n",
       "      <td>000006.53+003055.2</td>\n",
       "      <td>0.027228</td>\n",
       "      <td>0.515341</td>\n",
       "      <td>-25.386491</td>\n",
       "    </tr>\n",
       "    <tr>\n",
       "      <th>1</th>\n",
       "      <td>000008.13+001634.6</td>\n",
       "      <td>0.033900</td>\n",
       "      <td>0.276301</td>\n",
       "      <td>-26.104771</td>\n",
       "    </tr>\n",
       "    <tr>\n",
       "      <th>2</th>\n",
       "      <td>000009.26+151754.5</td>\n",
       "      <td>0.038604</td>\n",
       "      <td>15.298477</td>\n",
       "      <td>-25.400771</td>\n",
       "    </tr>\n",
       "    <tr>\n",
       "      <th>3</th>\n",
       "      <td>000009.38+135618.4</td>\n",
       "      <td>0.039089</td>\n",
       "      <td>13.938450</td>\n",
       "      <td>-27.855786</td>\n",
       "    </tr>\n",
       "    <tr>\n",
       "      <th>4</th>\n",
       "      <td>000009.42-102751.9</td>\n",
       "      <td>0.039271</td>\n",
       "      <td>-10.464426</td>\n",
       "      <td>-26.773386</td>\n",
       "    </tr>\n",
       "    <tr>\n",
       "      <th>...</th>\n",
       "      <td>...</td>\n",
       "      <td>...</td>\n",
       "      <td>...</td>\n",
       "      <td>...</td>\n",
       "    </tr>\n",
       "    <tr>\n",
       "      <th>105778</th>\n",
       "      <td>235958.21+005139.8</td>\n",
       "      <td>359.992554</td>\n",
       "      <td>0.861057</td>\n",
       "      <td>-27.338934</td>\n",
       "    </tr>\n",
       "    <tr>\n",
       "      <th>105779</th>\n",
       "      <td>235958.66-011225.3</td>\n",
       "      <td>359.994446</td>\n",
       "      <td>-1.207033</td>\n",
       "      <td>-27.013465</td>\n",
       "    </tr>\n",
       "    <tr>\n",
       "      <th>105780</th>\n",
       "      <td>235958.72+003345.3</td>\n",
       "      <td>359.994690</td>\n",
       "      <td>0.562592</td>\n",
       "      <td>-25.908886</td>\n",
       "    </tr>\n",
       "    <tr>\n",
       "      <th>105781</th>\n",
       "      <td>235959.06-090944.0</td>\n",
       "      <td>359.996094</td>\n",
       "      <td>-9.162233</td>\n",
       "      <td>-26.613018</td>\n",
       "    </tr>\n",
       "    <tr>\n",
       "      <th>105782</th>\n",
       "      <td>235959.44+000841.5</td>\n",
       "      <td>359.997681</td>\n",
       "      <td>0.144870</td>\n",
       "      <td>-24.381805</td>\n",
       "    </tr>\n",
       "  </tbody>\n",
       "</table>\n",
       "<p>105783 rows × 4 columns</p>\n",
       "</div>"
      ],
      "text/plain": [
       "                 SDSS_NAME          RA        DEC      MI_Z2\n",
       "0       000006.53+003055.2    0.027228   0.515341 -25.386491\n",
       "1       000008.13+001634.6    0.033900   0.276301 -26.104771\n",
       "2       000009.26+151754.5    0.038604  15.298477 -25.400771\n",
       "3       000009.38+135618.4    0.039089  13.938450 -27.855786\n",
       "4       000009.42-102751.9    0.039271 -10.464426 -26.773386\n",
       "...                    ...         ...        ...        ...\n",
       "105778  235958.21+005139.8  359.992554   0.861057 -27.338934\n",
       "105779  235958.66-011225.3  359.994446  -1.207033 -27.013465\n",
       "105780  235958.72+003345.3  359.994690   0.562592 -25.908886\n",
       "105781  235959.06-090944.0  359.996094  -9.162233 -26.613018\n",
       "105782  235959.44+000841.5  359.997681   0.144870 -24.381805\n",
       "\n",
       "[105783 rows x 4 columns]"
      ]
     },
     "execution_count": 14,
     "metadata": {},
     "output_type": "execute_result"
    }
   ],
   "source": [
    "sdss = pd.read_csv(\"shentable.csv\")\n",
    "sdss"
   ]
  },
  {
   "cell_type": "markdown",
   "metadata": {
    "id": "5VO2i_ldlnVe"
   },
   "source": [
    "Understanding what the data looks like.."
   ]
  },
  {
   "cell_type": "code",
   "execution_count": 15,
   "metadata": {
    "colab": {
     "base_uri": "https://localhost:8080/",
     "height": 637
    },
    "id": "jXj5vVWyuinj",
    "outputId": "916fc205-5485-4379-ed86-f55cc73183df"
   },
   "outputs": [
    {
     "data": {
      "text/plain": [
       "<matplotlib.legend.Legend at 0x7ff34a880e50>"
      ]
     },
     "execution_count": 15,
     "metadata": {},
     "output_type": "execute_result"
    },
    {
     "data": {
      "image/png": "[encoded data removed]",
      "text/plain": [
       "<Figure size 1000x700 with 1 Axes>"
      ]
     },
     "metadata": {},
     "output_type": "display_data"
    }
   ],
   "source": [
    "figure = plt.figure(figsize=(10,7))\n",
    "plt.plot(sdss['RA'],sdss['DEC'],'o',label='DR7 Catalog data')\n",
    "plt.plot(targets['RA'],targets['DEC'],'v',label='8 Targets')\n",
    "plt.xlabel('RA')\n",
    "plt.ylabel('DEC')\n",
    "plt.legend()"
   ]
  },
  {
   "cell_type": "markdown",
   "metadata": {
    "id": "A2cAAb7_lxjf"
   },
   "source": [
    "Using Astropy to find the values in catalog that match 8 targets"
   ]
  },
  {
   "cell_type": "code",
   "execution_count": 16,
   "metadata": {
    "id": "mG2DRpNeLLBe"
   },
   "outputs": [],
   "source": [
    "c = SkyCoord(ra=targets['RA']*u.degree, dec=targets['DEC']*u.degree)\n",
    "catalog = SkyCoord(ra=sdss['RA']*u.degree, dec=sdss['DEC']*u.degree)\n",
    "idx, d2d, d3d = c.match_to_catalog_sky(catalog)"
   ]
  },
  {
   "cell_type": "code",
   "execution_count": 17,
   "metadata": {
    "id": "4j9swQZ1rgSU"
   },
   "outputs": [],
   "source": [
    "matches = catalog[idx]"
   ]
  },
  {
   "cell_type": "code",
   "execution_count": 18,
   "metadata": {
    "id": "Bk6A20_rsIn8"
   },
   "outputs": [],
   "source": [
    "max_sep = 0.5 * u.arcsec\n",
    "idx, d2d, d3d = c.match_to_catalog_3d(catalog)\n",
    "sep_constraint = d2d < max_sep\n",
    "c_matches = c[sep_constraint]\n",
    "catalog_matches = catalog[idx[sep_constraint]]"
   ]
  },
  {
   "cell_type": "code",
   "execution_count": 19,
   "metadata": {
    "colab": {
     "base_uri": "https://localhost:8080/"
    },
    "id": "ci8_StKbsbZe",
    "outputId": "40b1bbd4-59cf-4306-e588-61dddfcd5b2b"
   },
   "outputs": [
    {
     "data": {
      "text/plain": [
       "<SkyCoord (ICRS): (ra, dec) in deg\n",
       "    [(131.816817 , 37.5382934), (133.1542374, 20.0697063),\n",
       "     (142.1582405, 60.4224843), (168.1287589, 18.2197985),\n",
       "     (187.2896753, -0.5917407), (206.4520522, 11.7453871),\n",
       "     (212.5857431, 36.722997 ), (234.2748051,  0.9229983)]>"
      ]
     },
     "execution_count": 19,
     "metadata": {},
     "output_type": "execute_result"
    }
   ],
   "source": [
    "c_matches"
   ]
  },
  {
   "cell_type": "code",
   "execution_count": 20,
   "metadata": {
    "colab": {
     "base_uri": "https://localhost:8080/"
    },
    "id": "i-lhavpEsccR",
    "outputId": "1098b081-d956-494a-8fab-997dcb43aa3a"
   },
   "outputs": [
    {
     "data": {
      "text/plain": [
       "<SkyCoord (ICRS): (ra, dec) in deg\n",
       "    [(131.8168335 , 37.53835678), (133.15423584, 20.06970978),\n",
       "     (142.15826416, 60.42250443), (168.1287384 , 18.21984482),\n",
       "     (187.28968811, -0.59169102), (206.45210266, 11.74542809),\n",
       "     (212.58572388, 36.7229805 ), (234.27479553,  0.92301702)]>"
      ]
     },
     "execution_count": 20,
     "metadata": {},
     "output_type": "execute_result"
    }
   ],
   "source": [
    "catalog_matches"
   ]
  },
  {
   "cell_type": "code",
   "execution_count": 21,
   "metadata": {
    "id": "eWF3sKJIvIZ_"
   },
   "outputs": [],
   "source": [
    "MI_Z2 = sdss['MI_Z2'][idx]\n",
    "MI_Z2 = MI_Z2.tolist()"
   ]
  },
  {
   "cell_type": "code",
   "execution_count": 22,
   "metadata": {
    "id": "bVshkV4Pvs6h"
   },
   "outputs": [],
   "source": [
    "#targets = targets.drop(['MI_Z2'],axis=1)"
   ]
  },
  {
   "cell_type": "markdown",
   "metadata": {
    "id": "doa8y233t6zK"
   },
   "source": [
    "#Inserting those MI_Z2 values into targets table"
   ]
  },
  {
   "cell_type": "code",
   "execution_count": 23,
   "metadata": {
    "colab": {
     "base_uri": "https://localhost:8080/",
     "height": 300
    },
    "id": "Iua7FEd6vtzu",
    "outputId": "d68d145a-ccd5-4342-eef5-410853fb1f57"
   },
   "outputs": [
    {
     "data": {
      "text/html": [
       "<div>\n",
       "<style scoped>\n",
       "    .dataframe tbody tr th:only-of-type {\n",
       "        vertical-align: middle;\n",
       "    }\n",
       "\n",
       "    .dataframe tbody tr th {\n",
       "        vertical-align: top;\n",
       "    }\n",
       "\n",
       "    .dataframe thead th {\n",
       "        text-align: right;\n",
       "    }\n",
       "</style>\n",
       "<table border=\"1\" class=\"dataframe\">\n",
       "  <thead>\n",
       "    <tr style=\"text-align: right;\">\n",
       "      <th></th>\n",
       "      <th>name</th>\n",
       "      <th>filename</th>\n",
       "      <th>z</th>\n",
       "      <th>RA</th>\n",
       "      <th>DEC</th>\n",
       "      <th>N_psf</th>\n",
       "      <th>N_sersic</th>\n",
       "      <th>ra_psf</th>\n",
       "      <th>dec_psf</th>\n",
       "      <th>ref</th>\n",
       "    </tr>\n",
       "  </thead>\n",
       "  <tbody>\n",
       "    <tr>\n",
       "      <th>0</th>\n",
       "      <td>J0847+3732</td>\n",
       "      <td>ie4701_drz</td>\n",
       "      <td>0.4534</td>\n",
       "      <td>131.816817</td>\n",
       "      <td>37.538293</td>\n",
       "      <td>1</td>\n",
       "      <td>1</td>\n",
       "      <td>-99</td>\n",
       "      <td>-99</td>\n",
       "      <td>Guo19</td>\n",
       "    </tr>\n",
       "    <tr>\n",
       "      <th>1</th>\n",
       "      <td>J0852+2004</td>\n",
       "      <td>ie4702_drz</td>\n",
       "      <td>0.4615</td>\n",
       "      <td>133.154237</td>\n",
       "      <td>20.069706</td>\n",
       "      <td>1</td>\n",
       "      <td>1</td>\n",
       "      <td>-99</td>\n",
       "      <td>-99</td>\n",
       "      <td>Guo19</td>\n",
       "    </tr>\n",
       "    <tr>\n",
       "      <th>2</th>\n",
       "      <td>J0928+6025</td>\n",
       "      <td>ie4703_drz</td>\n",
       "      <td>0.2959</td>\n",
       "      <td>142.158241</td>\n",
       "      <td>60.422484</td>\n",
       "      <td>1</td>\n",
       "      <td>1</td>\n",
       "      <td>-99</td>\n",
       "      <td>-99</td>\n",
       "      <td>Guo19</td>\n",
       "    </tr>\n",
       "    <tr>\n",
       "      <th>3</th>\n",
       "      <td>J1112+1813</td>\n",
       "      <td>ie4704_drz</td>\n",
       "      <td>0.1952</td>\n",
       "      <td>168.128759</td>\n",
       "      <td>18.219798</td>\n",
       "      <td>1</td>\n",
       "      <td>1</td>\n",
       "      <td>-99</td>\n",
       "      <td>-99</td>\n",
       "      <td>Guo19</td>\n",
       "    </tr>\n",
       "    <tr>\n",
       "      <th>4</th>\n",
       "      <td>J1229-0035</td>\n",
       "      <td>ie4705_drz</td>\n",
       "      <td>0.4498</td>\n",
       "      <td>187.289675</td>\n",
       "      <td>-0.591741</td>\n",
       "      <td>1</td>\n",
       "      <td>1</td>\n",
       "      <td>-99</td>\n",
       "      <td>-99</td>\n",
       "      <td>Shen13</td>\n",
       "    </tr>\n",
       "    <tr>\n",
       "      <th>5</th>\n",
       "      <td>J1345+1144</td>\n",
       "      <td>ie4706_drz</td>\n",
       "      <td>0.1264</td>\n",
       "      <td>206.452052</td>\n",
       "      <td>11.745387</td>\n",
       "      <td>1</td>\n",
       "      <td>1</td>\n",
       "      <td>-99</td>\n",
       "      <td>-99</td>\n",
       "      <td>Liu14</td>\n",
       "    </tr>\n",
       "    <tr>\n",
       "      <th>6</th>\n",
       "      <td>J1410+3643</td>\n",
       "      <td>ie4707_drz</td>\n",
       "      <td>0.4495</td>\n",
       "      <td>212.585743</td>\n",
       "      <td>36.722997</td>\n",
       "      <td>1</td>\n",
       "      <td>1</td>\n",
       "      <td>-99</td>\n",
       "      <td>-99</td>\n",
       "      <td>Guo19</td>\n",
       "    </tr>\n",
       "    <tr>\n",
       "      <th>7</th>\n",
       "      <td>J1537+0055</td>\n",
       "      <td>ie4708_drz</td>\n",
       "      <td>0.1365</td>\n",
       "      <td>234.274805</td>\n",
       "      <td>0.922998</td>\n",
       "      <td>1</td>\n",
       "      <td>1</td>\n",
       "      <td>-99</td>\n",
       "      <td>-99</td>\n",
       "      <td>Guo19</td>\n",
       "    </tr>\n",
       "  </tbody>\n",
       "</table>\n",
       "</div>"
      ],
      "text/plain": [
       "         name    filename       z          RA        DEC  N_psf  N_sersic  \\\n",
       "0  J0847+3732  ie4701_drz  0.4534  131.816817  37.538293      1         1   \n",
       "1  J0852+2004  ie4702_drz  0.4615  133.154237  20.069706      1         1   \n",
       "2  J0928+6025  ie4703_drz  0.2959  142.158241  60.422484      1         1   \n",
       "3  J1112+1813  ie4704_drz  0.1952  168.128759  18.219798      1         1   \n",
       "4  J1229-0035  ie4705_drz  0.4498  187.289675  -0.591741      1         1   \n",
       "5  J1345+1144  ie4706_drz  0.1264  206.452052  11.745387      1         1   \n",
       "6  J1410+3643  ie4707_drz  0.4495  212.585743  36.722997      1         1   \n",
       "7  J1537+0055  ie4708_drz  0.1365  234.274805   0.922998      1         1   \n",
       "\n",
       "   ra_psf  dec_psf     ref  \n",
       "0     -99      -99   Guo19  \n",
       "1     -99      -99   Guo19  \n",
       "2     -99      -99   Guo19  \n",
       "3     -99      -99   Guo19  \n",
       "4     -99      -99  Shen13  \n",
       "5     -99      -99   Liu14  \n",
       "6     -99      -99   Guo19  \n",
       "7     -99      -99   Guo19  "
      ]
     },
     "execution_count": 23,
     "metadata": {},
     "output_type": "execute_result"
    }
   ],
   "source": [
    "targets"
   ]
  },
  {
   "cell_type": "code",
   "execution_count": 24,
   "metadata": {
    "id": "R_awpiFUxAgK"
   },
   "outputs": [],
   "source": [
    "targets['MI_Z2'] = MI_Z2"
   ]
  },
  {
   "cell_type": "markdown",
   "metadata": {
    "id": "EzI6RE1Gl844"
   },
   "source": [
    "#Targets with retrieved MI_Z2 values"
   ]
  },
  {
   "cell_type": "code",
   "execution_count": 25,
   "metadata": {
    "colab": {
     "base_uri": "https://localhost:8080/",
     "height": 300
    },
    "id": "SyURFZwrxBmH",
    "outputId": "b7cc1317-e967-4303-d4dc-dd4f3b0c89f5"
   },
   "outputs": [
    {
     "data": {
      "text/html": [
       "<div>\n",
       "<style scoped>\n",
       "    .dataframe tbody tr th:only-of-type {\n",
       "        vertical-align: middle;\n",
       "    }\n",
       "\n",
       "    .dataframe tbody tr th {\n",
       "        vertical-align: top;\n",
       "    }\n",
       "\n",
       "    .dataframe thead th {\n",
       "        text-align: right;\n",
       "    }\n",
       "</style>\n",
       "<table border=\"1\" class=\"dataframe\">\n",
       "  <thead>\n",
       "    <tr style=\"text-align: right;\">\n",
       "      <th></th>\n",
       "      <th>name</th>\n",
       "      <th>filename</th>\n",
       "      <th>z</th>\n",
       "      <th>RA</th>\n",
       "      <th>DEC</th>\n",
       "      <th>N_psf</th>\n",
       "      <th>N_sersic</th>\n",
       "      <th>ra_psf</th>\n",
       "      <th>dec_psf</th>\n",
       "      <th>ref</th>\n",
       "      <th>MI_Z2</th>\n",
       "    </tr>\n",
       "  </thead>\n",
       "  <tbody>\n",
       "    <tr>\n",
       "      <th>0</th>\n",
       "      <td>J0847+3732</td>\n",
       "      <td>ie4701_drz</td>\n",
       "      <td>0.4534</td>\n",
       "      <td>131.816817</td>\n",
       "      <td>37.538293</td>\n",
       "      <td>1</td>\n",
       "      <td>1</td>\n",
       "      <td>-99</td>\n",
       "      <td>-99</td>\n",
       "      <td>Guo19</td>\n",
       "      <td>-24.261912</td>\n",
       "    </tr>\n",
       "    <tr>\n",
       "      <th>1</th>\n",
       "      <td>J0852+2004</td>\n",
       "      <td>ie4702_drz</td>\n",
       "      <td>0.4615</td>\n",
       "      <td>133.154237</td>\n",
       "      <td>20.069706</td>\n",
       "      <td>1</td>\n",
       "      <td>1</td>\n",
       "      <td>-99</td>\n",
       "      <td>-99</td>\n",
       "      <td>Guo19</td>\n",
       "      <td>-24.256326</td>\n",
       "    </tr>\n",
       "    <tr>\n",
       "      <th>2</th>\n",
       "      <td>J0928+6025</td>\n",
       "      <td>ie4703_drz</td>\n",
       "      <td>0.2959</td>\n",
       "      <td>142.158241</td>\n",
       "      <td>60.422484</td>\n",
       "      <td>1</td>\n",
       "      <td>1</td>\n",
       "      <td>-99</td>\n",
       "      <td>-99</td>\n",
       "      <td>Guo19</td>\n",
       "      <td>-24.402618</td>\n",
       "    </tr>\n",
       "    <tr>\n",
       "      <th>3</th>\n",
       "      <td>J1112+1813</td>\n",
       "      <td>ie4704_drz</td>\n",
       "      <td>0.1952</td>\n",
       "      <td>168.128759</td>\n",
       "      <td>18.219798</td>\n",
       "      <td>1</td>\n",
       "      <td>1</td>\n",
       "      <td>-99</td>\n",
       "      <td>-99</td>\n",
       "      <td>Guo19</td>\n",
       "      <td>-22.535430</td>\n",
       "    </tr>\n",
       "    <tr>\n",
       "      <th>4</th>\n",
       "      <td>J1229-0035</td>\n",
       "      <td>ie4705_drz</td>\n",
       "      <td>0.4498</td>\n",
       "      <td>187.289675</td>\n",
       "      <td>-0.591741</td>\n",
       "      <td>1</td>\n",
       "      <td>1</td>\n",
       "      <td>-99</td>\n",
       "      <td>-99</td>\n",
       "      <td>Shen13</td>\n",
       "      <td>-24.003090</td>\n",
       "    </tr>\n",
       "    <tr>\n",
       "      <th>5</th>\n",
       "      <td>J1345+1144</td>\n",
       "      <td>ie4706_drz</td>\n",
       "      <td>0.1264</td>\n",
       "      <td>206.452052</td>\n",
       "      <td>11.745387</td>\n",
       "      <td>1</td>\n",
       "      <td>1</td>\n",
       "      <td>-99</td>\n",
       "      <td>-99</td>\n",
       "      <td>Liu14</td>\n",
       "      <td>-22.565360</td>\n",
       "    </tr>\n",
       "    <tr>\n",
       "      <th>6</th>\n",
       "      <td>J1410+3643</td>\n",
       "      <td>ie4707_drz</td>\n",
       "      <td>0.4495</td>\n",
       "      <td>212.585743</td>\n",
       "      <td>36.722997</td>\n",
       "      <td>1</td>\n",
       "      <td>1</td>\n",
       "      <td>-99</td>\n",
       "      <td>-99</td>\n",
       "      <td>Guo19</td>\n",
       "      <td>-23.950254</td>\n",
       "    </tr>\n",
       "    <tr>\n",
       "      <th>7</th>\n",
       "      <td>J1537+0055</td>\n",
       "      <td>ie4708_drz</td>\n",
       "      <td>0.1365</td>\n",
       "      <td>234.274805</td>\n",
       "      <td>0.922998</td>\n",
       "      <td>1</td>\n",
       "      <td>1</td>\n",
       "      <td>-99</td>\n",
       "      <td>-99</td>\n",
       "      <td>Guo19</td>\n",
       "      <td>-22.598245</td>\n",
       "    </tr>\n",
       "  </tbody>\n",
       "</table>\n",
       "</div>"
      ],
      "text/plain": [
       "         name    filename       z          RA        DEC  N_psf  N_sersic  \\\n",
       "0  J0847+3732  ie4701_drz  0.4534  131.816817  37.538293      1         1   \n",
       "1  J0852+2004  ie4702_drz  0.4615  133.154237  20.069706      1         1   \n",
       "2  J0928+6025  ie4703_drz  0.2959  142.158241  60.422484      1         1   \n",
       "3  J1112+1813  ie4704_drz  0.1952  168.128759  18.219798      1         1   \n",
       "4  J1229-0035  ie4705_drz  0.4498  187.289675  -0.591741      1         1   \n",
       "5  J1345+1144  ie4706_drz  0.1264  206.452052  11.745387      1         1   \n",
       "6  J1410+3643  ie4707_drz  0.4495  212.585743  36.722997      1         1   \n",
       "7  J1537+0055  ie4708_drz  0.1365  234.274805   0.922998      1         1   \n",
       "\n",
       "   ra_psf  dec_psf     ref      MI_Z2  \n",
       "0     -99      -99   Guo19 -24.261912  \n",
       "1     -99      -99   Guo19 -24.256326  \n",
       "2     -99      -99   Guo19 -24.402618  \n",
       "3     -99      -99   Guo19 -22.535430  \n",
       "4     -99      -99  Shen13 -24.003090  \n",
       "5     -99      -99   Liu14 -22.565360  \n",
       "6     -99      -99   Guo19 -23.950254  \n",
       "7     -99      -99   Guo19 -22.598245  "
      ]
     },
     "execution_count": 25,
     "metadata": {},
     "output_type": "execute_result"
    }
   ],
   "source": [
    "targets"
   ]
  },
  {
   "cell_type": "code",
   "execution_count": 26,
   "metadata": {
    "id": "mE-34v4gxuxg"
   },
   "outputs": [],
   "source": [
    "# NOW DO THE KDTREE METHOD TO FIND CANDIDATES IN TABLEFORRESEARCH WITH MI_Z2 AND REDSHIFT VALUES SIMILAR \n",
    "# TO ONES IN TARGETS with specific tolerance (mentioned)"
   ]
  },
  {
   "cell_type": "code",
   "execution_count": 27,
   "metadata": {
    "colab": {
     "base_uri": "https://localhost:8080/",
     "height": 505
    },
    "id": "p3O35lref-q9",
    "outputId": "e9bc9d59-2446-4c6e-d5bd-4f258d44371f"
   },
   "outputs": [
    {
     "data": {
      "text/plain": [
       "Text(0, 0.5, 'Redshift Z')"
      ]
     },
     "execution_count": 27,
     "metadata": {},
     "output_type": "execute_result"
    },
    {
     "data": {
      "image/png": "[encoded data removed]",
      "text/plain": [
       "<Figure size 700x500 with 1 Axes>"
      ]
     },
     "metadata": {},
     "output_type": "display_data"
    }
   ],
   "source": [
    "figure = plt.figure(figsize=(7,5))\n",
    "plt.scatter(targets['MI_Z2'],targets['z'])\n",
    "plt.title('iMagnitude vs Redshift for Targets')\n",
    "plt.xlabel('iMagnitude')\n",
    "plt.ylabel('Redshift Z')"
   ]
  },
  {
   "cell_type": "code",
   "execution_count": 28,
   "metadata": {
    "colab": {
     "base_uri": "https://localhost:8080/",
     "height": 423
    },
    "id": "krW8im4ARtrZ",
    "outputId": "fe79fee9-e423-4225-c6e9-0206d9627758"
   },
   "outputs": [
    {
     "data": {
      "text/html": [
       "<div>\n",
       "<style scoped>\n",
       "    .dataframe tbody tr th:only-of-type {\n",
       "        vertical-align: middle;\n",
       "    }\n",
       "\n",
       "    .dataframe tbody tr th {\n",
       "        vertical-align: top;\n",
       "    }\n",
       "\n",
       "    .dataframe thead th {\n",
       "        text-align: right;\n",
       "    }\n",
       "</style>\n",
       "<table border=\"1\" class=\"dataframe\">\n",
       "  <thead>\n",
       "    <tr style=\"text-align: right;\">\n",
       "      <th></th>\n",
       "      <th>Entry</th>\n",
       "      <th>SDSS Name</th>\n",
       "      <th>z</th>\n",
       "      <th>iMAG</th>\n",
       "      <th>Exp Time</th>\n",
       "      <th>Filters/Gratings</th>\n",
       "      <th>Central Wavelength</th>\n",
       "    </tr>\n",
       "  </thead>\n",
       "  <tbody>\n",
       "    <tr>\n",
       "      <th>1</th>\n",
       "      <td>199.0</td>\n",
       "      <td>000500.42-003348.2</td>\n",
       "      <td>2.1733</td>\n",
       "      <td>-27.53</td>\n",
       "      <td>260.000</td>\n",
       "      <td>F555W</td>\n",
       "      <td>5479.000</td>\n",
       "    </tr>\n",
       "    <tr>\n",
       "      <th>3</th>\n",
       "      <td>248.0</td>\n",
       "      <td>000622.60-000424.4</td>\n",
       "      <td>1.0377</td>\n",
       "      <td>-24.74</td>\n",
       "      <td>300.000</td>\n",
       "      <td>F555W</td>\n",
       "      <td>5439.000</td>\n",
       "    </tr>\n",
       "    <tr>\n",
       "      <th>5</th>\n",
       "      <td>248.0</td>\n",
       "      <td>000622.60-000424.4</td>\n",
       "      <td>1.0377</td>\n",
       "      <td>-24.74</td>\n",
       "      <td>1100.000</td>\n",
       "      <td>F675W</td>\n",
       "      <td>6717.000</td>\n",
       "    </tr>\n",
       "    <tr>\n",
       "      <th>7</th>\n",
       "      <td>396.0</td>\n",
       "      <td>001016.49+001227.6</td>\n",
       "      <td>2.2761</td>\n",
       "      <td>-27.74</td>\n",
       "      <td>260.000</td>\n",
       "      <td>F555W</td>\n",
       "      <td>5479.000</td>\n",
       "    </tr>\n",
       "    <tr>\n",
       "      <th>9</th>\n",
       "      <td>430.0</td>\n",
       "      <td>001057.59+011011.5</td>\n",
       "      <td>3.1060</td>\n",
       "      <td>-28.37</td>\n",
       "      <td>396.875</td>\n",
       "      <td>CLEAR1;F140W;CLEAR3;CLEAR4</td>\n",
       "      <td>1370.000</td>\n",
       "    </tr>\n",
       "    <tr>\n",
       "      <th>...</th>\n",
       "      <td>...</td>\n",
       "      <td>...</td>\n",
       "      <td>...</td>\n",
       "      <td>...</td>\n",
       "      <td>...</td>\n",
       "      <td>...</td>\n",
       "      <td>...</td>\n",
       "    </tr>\n",
       "    <tr>\n",
       "      <th>4869</th>\n",
       "      <td>105548.0</td>\n",
       "      <td>U2EK0406T</td>\n",
       "      <td>0.4615</td>\n",
       "      <td>-24.69</td>\n",
       "      <td>400.000</td>\n",
       "      <td>F675W</td>\n",
       "      <td>6717.000</td>\n",
       "    </tr>\n",
       "    <tr>\n",
       "      <th>4871</th>\n",
       "      <td>105711.0</td>\n",
       "      <td>J8NP05010</td>\n",
       "      <td>0.4022</td>\n",
       "      <td>-23.10</td>\n",
       "      <td>2148.000</td>\n",
       "      <td>F550M;CLEAR2L</td>\n",
       "      <td>5581.307</td>\n",
       "    </tr>\n",
       "    <tr>\n",
       "      <th>4873</th>\n",
       "      <td>105711.0</td>\n",
       "      <td>J8NP05030</td>\n",
       "      <td>0.4022</td>\n",
       "      <td>-23.10</td>\n",
       "      <td>2240.000</td>\n",
       "      <td>CLEAR1L;FR914M</td>\n",
       "      <td>7975.096</td>\n",
       "    </tr>\n",
       "    <tr>\n",
       "      <th>4875</th>\n",
       "      <td>105711.0</td>\n",
       "      <td>J8NP05040</td>\n",
       "      <td>0.4022</td>\n",
       "      <td>-23.10</td>\n",
       "      <td>2256.000</td>\n",
       "      <td>CLEAR1L;F435W</td>\n",
       "      <td>4328.773</td>\n",
       "    </tr>\n",
       "    <tr>\n",
       "      <th>4877</th>\n",
       "      <td>105777.0</td>\n",
       "      <td>J8ZB08010</td>\n",
       "      <td>0.3585</td>\n",
       "      <td>-23.14</td>\n",
       "      <td>2148.000</td>\n",
       "      <td>F775W;CLEAR2L</td>\n",
       "      <td>7693.620</td>\n",
       "    </tr>\n",
       "  </tbody>\n",
       "</table>\n",
       "<p>2439 rows × 7 columns</p>\n",
       "</div>"
      ],
      "text/plain": [
       "         Entry           SDSS Name       z   iMAG  Exp Time  \\\n",
       "1        199.0  000500.42-003348.2  2.1733 -27.53   260.000   \n",
       "3        248.0  000622.60-000424.4  1.0377 -24.74   300.000   \n",
       "5        248.0  000622.60-000424.4  1.0377 -24.74  1100.000   \n",
       "7        396.0  001016.49+001227.6  2.2761 -27.74   260.000   \n",
       "9        430.0  001057.59+011011.5  3.1060 -28.37   396.875   \n",
       "...        ...                 ...     ...    ...       ...   \n",
       "4869  105548.0           U2EK0406T  0.4615 -24.69   400.000   \n",
       "4871  105711.0           J8NP05010  0.4022 -23.10  2148.000   \n",
       "4873  105711.0           J8NP05030  0.4022 -23.10  2240.000   \n",
       "4875  105711.0           J8NP05040  0.4022 -23.10  2256.000   \n",
       "4877  105777.0           J8ZB08010  0.3585 -23.14  2148.000   \n",
       "\n",
       "                Filters/Gratings  Central Wavelength  \n",
       "1                          F555W            5479.000  \n",
       "3                          F555W            5439.000  \n",
       "5                          F675W            6717.000  \n",
       "7                          F555W            5479.000  \n",
       "9     CLEAR1;F140W;CLEAR3;CLEAR4            1370.000  \n",
       "...                          ...                 ...  \n",
       "4869                       F675W            6717.000  \n",
       "4871               F550M;CLEAR2L            5581.307  \n",
       "4873              CLEAR1L;FR914M            7975.096  \n",
       "4875               CLEAR1L;F435W            4328.773  \n",
       "4877               F775W;CLEAR2L            7693.620  \n",
       "\n",
       "[2439 rows x 7 columns]"
      ]
     },
     "execution_count": 28,
     "metadata": {},
     "output_type": "execute_result"
    }
   ],
   "source": [
    "lookup_table"
   ]
  },
  {
   "cell_type": "code",
   "execution_count": 29,
   "metadata": {
    "colab": {
     "base_uri": "https://localhost:8080/"
    },
    "id": "HCQHg6PRjvSE",
    "outputId": "94faf821-3bc4-4976-bd2a-3bfca42d6843"
   },
   "outputs": [
    {
     "name": "stderr",
     "output_type": "stream",
     "text": [
      "/var/folders/22/dh8f6qrs5xxcjd4nzyck348r0000gn/T/ipykernel_34205/566751714.py:5: SettingWithCopyWarning: \n",
      "A value is trying to be set on a copy of a slice from a DataFrame.\n",
      "Try using .loc[row_indexer,col_indexer] = value instead\n",
      "\n",
      "See the caveats in the documentation: https://pandas.pydata.org/pandas-docs/stable/user_guide/indexing.html#returning-a-view-versus-a-copy\n",
      "  table_i['points_lookup'] = list(zip(table_i.z, table_i.iMAG))\n"
     ]
    }
   ],
   "source": [
    "lookup_table['points_lookup'] = list(zip(lookup_table.z, lookup_table.iMAG))\n",
    "X = lookup_table['points_lookup'].tolist() #knn for whole table\n",
    "\n",
    "#setting up knn for table_i (CW and Exptime reduced)\n",
    "table_i['points_lookup'] = list(zip(table_i.z, table_i.iMAG))\n",
    "table_i\n",
    "X_i = table_i['points_lookup'].tolist()"
   ]
  },
  {
   "cell_type": "code",
   "execution_count": 30,
   "metadata": {
    "colab": {
     "base_uri": "https://localhost:8080/",
     "height": 300
    },
    "id": "EHgZwzKQqK7O",
    "outputId": "ef4f6966-3f77-4d9f-d5eb-4389b0591237"
   },
   "outputs": [
    {
     "data": {
      "text/html": [
       "<div>\n",
       "<style scoped>\n",
       "    .dataframe tbody tr th:only-of-type {\n",
       "        vertical-align: middle;\n",
       "    }\n",
       "\n",
       "    .dataframe tbody tr th {\n",
       "        vertical-align: top;\n",
       "    }\n",
       "\n",
       "    .dataframe thead th {\n",
       "        text-align: right;\n",
       "    }\n",
       "</style>\n",
       "<table border=\"1\" class=\"dataframe\">\n",
       "  <thead>\n",
       "    <tr style=\"text-align: right;\">\n",
       "      <th></th>\n",
       "      <th>name</th>\n",
       "      <th>filename</th>\n",
       "      <th>z</th>\n",
       "      <th>RA</th>\n",
       "      <th>DEC</th>\n",
       "      <th>N_psf</th>\n",
       "      <th>N_sersic</th>\n",
       "      <th>ra_psf</th>\n",
       "      <th>dec_psf</th>\n",
       "      <th>ref</th>\n",
       "      <th>MI_Z2</th>\n",
       "    </tr>\n",
       "  </thead>\n",
       "  <tbody>\n",
       "    <tr>\n",
       "      <th>0</th>\n",
       "      <td>J0847+3732</td>\n",
       "      <td>ie4701_drz</td>\n",
       "      <td>0.4534</td>\n",
       "      <td>131.816817</td>\n",
       "      <td>37.538293</td>\n",
       "      <td>1</td>\n",
       "      <td>1</td>\n",
       "      <td>-99</td>\n",
       "      <td>-99</td>\n",
       "      <td>Guo19</td>\n",
       "      <td>-24.261912</td>\n",
       "    </tr>\n",
       "    <tr>\n",
       "      <th>1</th>\n",
       "      <td>J0852+2004</td>\n",
       "      <td>ie4702_drz</td>\n",
       "      <td>0.4615</td>\n",
       "      <td>133.154237</td>\n",
       "      <td>20.069706</td>\n",
       "      <td>1</td>\n",
       "      <td>1</td>\n",
       "      <td>-99</td>\n",
       "      <td>-99</td>\n",
       "      <td>Guo19</td>\n",
       "      <td>-24.256326</td>\n",
       "    </tr>\n",
       "    <tr>\n",
       "      <th>2</th>\n",
       "      <td>J0928+6025</td>\n",
       "      <td>ie4703_drz</td>\n",
       "      <td>0.2959</td>\n",
       "      <td>142.158241</td>\n",
       "      <td>60.422484</td>\n",
       "      <td>1</td>\n",
       "      <td>1</td>\n",
       "      <td>-99</td>\n",
       "      <td>-99</td>\n",
       "      <td>Guo19</td>\n",
       "      <td>-24.402618</td>\n",
       "    </tr>\n",
       "    <tr>\n",
       "      <th>3</th>\n",
       "      <td>J1112+1813</td>\n",
       "      <td>ie4704_drz</td>\n",
       "      <td>0.1952</td>\n",
       "      <td>168.128759</td>\n",
       "      <td>18.219798</td>\n",
       "      <td>1</td>\n",
       "      <td>1</td>\n",
       "      <td>-99</td>\n",
       "      <td>-99</td>\n",
       "      <td>Guo19</td>\n",
       "      <td>-22.535430</td>\n",
       "    </tr>\n",
       "    <tr>\n",
       "      <th>4</th>\n",
       "      <td>J1229-0035</td>\n",
       "      <td>ie4705_drz</td>\n",
       "      <td>0.4498</td>\n",
       "      <td>187.289675</td>\n",
       "      <td>-0.591741</td>\n",
       "      <td>1</td>\n",
       "      <td>1</td>\n",
       "      <td>-99</td>\n",
       "      <td>-99</td>\n",
       "      <td>Shen13</td>\n",
       "      <td>-24.003090</td>\n",
       "    </tr>\n",
       "    <tr>\n",
       "      <th>5</th>\n",
       "      <td>J1345+1144</td>\n",
       "      <td>ie4706_drz</td>\n",
       "      <td>0.1264</td>\n",
       "      <td>206.452052</td>\n",
       "      <td>11.745387</td>\n",
       "      <td>1</td>\n",
       "      <td>1</td>\n",
       "      <td>-99</td>\n",
       "      <td>-99</td>\n",
       "      <td>Liu14</td>\n",
       "      <td>-22.565360</td>\n",
       "    </tr>\n",
       "    <tr>\n",
       "      <th>6</th>\n",
       "      <td>J1410+3643</td>\n",
       "      <td>ie4707_drz</td>\n",
       "      <td>0.4495</td>\n",
       "      <td>212.585743</td>\n",
       "      <td>36.722997</td>\n",
       "      <td>1</td>\n",
       "      <td>1</td>\n",
       "      <td>-99</td>\n",
       "      <td>-99</td>\n",
       "      <td>Guo19</td>\n",
       "      <td>-23.950254</td>\n",
       "    </tr>\n",
       "    <tr>\n",
       "      <th>7</th>\n",
       "      <td>J1537+0055</td>\n",
       "      <td>ie4708_drz</td>\n",
       "      <td>0.1365</td>\n",
       "      <td>234.274805</td>\n",
       "      <td>0.922998</td>\n",
       "      <td>1</td>\n",
       "      <td>1</td>\n",
       "      <td>-99</td>\n",
       "      <td>-99</td>\n",
       "      <td>Guo19</td>\n",
       "      <td>-22.598245</td>\n",
       "    </tr>\n",
       "  </tbody>\n",
       "</table>\n",
       "</div>"
      ],
      "text/plain": [
       "         name    filename       z          RA        DEC  N_psf  N_sersic  \\\n",
       "0  J0847+3732  ie4701_drz  0.4534  131.816817  37.538293      1         1   \n",
       "1  J0852+2004  ie4702_drz  0.4615  133.154237  20.069706      1         1   \n",
       "2  J0928+6025  ie4703_drz  0.2959  142.158241  60.422484      1         1   \n",
       "3  J1112+1813  ie4704_drz  0.1952  168.128759  18.219798      1         1   \n",
       "4  J1229-0035  ie4705_drz  0.4498  187.289675  -0.591741      1         1   \n",
       "5  J1345+1144  ie4706_drz  0.1264  206.452052  11.745387      1         1   \n",
       "6  J1410+3643  ie4707_drz  0.4495  212.585743  36.722997      1         1   \n",
       "7  J1537+0055  ie4708_drz  0.1365  234.274805   0.922998      1         1   \n",
       "\n",
       "   ra_psf  dec_psf     ref      MI_Z2  \n",
       "0     -99      -99   Guo19 -24.261912  \n",
       "1     -99      -99   Guo19 -24.256326  \n",
       "2     -99      -99   Guo19 -24.402618  \n",
       "3     -99      -99   Guo19 -22.535430  \n",
       "4     -99      -99  Shen13 -24.003090  \n",
       "5     -99      -99   Liu14 -22.565360  \n",
       "6     -99      -99   Guo19 -23.950254  \n",
       "7     -99      -99   Guo19 -22.598245  "
      ]
     },
     "execution_count": 30,
     "metadata": {},
     "output_type": "execute_result"
    }
   ],
   "source": [
    "targets"
   ]
  },
  {
   "cell_type": "code",
   "execution_count": 31,
   "metadata": {
    "colab": {
     "base_uri": "https://localhost:8080/"
    },
    "id": "RGcU6L8TkPJg",
    "outputId": "1c8a124e-1d2a-4ab4-aeaf-7d4b18bdaea0"
   },
   "outputs": [
    {
     "data": {
      "text/plain": [
       "[(0.4534, -24.26191172694315),\n",
       " (0.4615, -24.256326022982204),\n",
       " (0.2959, -24.402618335338246),\n",
       " (0.1952, -22.535429694084787),\n",
       " (0.4498, -24.003090239133364),\n",
       " (0.1264, -22.56536003526512),\n",
       " (0.4495, -23.950253626198094),\n",
       " (0.1365, -22.59824530586351)]"
      ]
     },
     "execution_count": 31,
     "metadata": {},
     "output_type": "execute_result"
    }
   ],
   "source": [
    "targets['points_assists'] = list(zip(targets.z, targets.MI_Z2))\n",
    "Ex = targets['points_assists']\n",
    "Ex_list = Ex.tolist()\n",
    "Ex_list\n",
    "#Ex_list_test= [(0.4534, -24.26191172694315)]"
   ]
  },
  {
   "cell_type": "markdown",
   "metadata": {
    "id": "nocR9AjpuePI"
   },
   "source": [
    "Ex_list : the list of target's Z and Magnitude in the form [(z,mag)]"
   ]
  },
  {
   "cell_type": "code",
   "execution_count": null,
   "metadata": {
    "id": "mkyEJ_StWxvj"
   },
   "outputs": [],
   "source": []
  },
  {
   "cell_type": "markdown",
   "metadata": {
    "id": "aP2gAw15mhdG"
   },
   "source": [
    "Finding nearest neighbors to target values in the BBHTable "
   ]
  },
  {
   "cell_type": "code",
   "execution_count": 32,
   "metadata": {
    "id": "xsV4pkLiuDC3"
   },
   "outputs": [],
   "source": [
    "from sklearn.neighbors import NearestNeighbors\n",
    "neigh = NearestNeighbors(n_neighbors=2)\n",
    "#neigh.fit(X)\n",
    "#NearestNeighbors(n_neighbors=2)\n",
    "neigh_i = NearestNeighbors(n_neighbors=2)"
   ]
  },
  {
   "cell_type": "code",
   "execution_count": 33,
   "metadata": {
    "colab": {
     "base_uri": "https://localhost:8080/",
     "height": 74
    },
    "id": "Yip6zEfutWq_",
    "outputId": "bd2b88e9-4821-417b-a100-b8eb83032374"
   },
   "outputs": [
    {
     "data": {
      "text/html": [
       "<style>#sk-container-id-1 {color: black;background-color: white;}#sk-container-id-1 pre{padding: 0;}#sk-container-id-1 div.sk-toggleable {background-color: white;}#sk-container-id-1 label.sk-toggleable__label {cursor: pointer;display: block;width: 100%;margin-bottom: 0;padding: 0.3em;box-sizing: border-box;text-align: center;}#sk-container-id-1 label.sk-toggleable__label-arrow:before {content: \"▸\";float: left;margin-right: 0.25em;color: #696969;}#sk-container-id-1 label.sk-toggleable__label-arrow:hover:before {color: black;}#sk-container-id-1 div.sk-estimator:hover label.sk-toggleable__label-arrow:before {color: black;}#sk-container-id-1 div.sk-toggleable__content {max-height: 0;max-width: 0;overflow: hidden;text-align: left;background-color: #f0f8ff;}#sk-container-id-1 div.sk-toggleable__content pre {margin: 0.2em;color: black;border-radius: 0.25em;background-color: #f0f8ff;}#sk-container-id-1 input.sk-toggleable__control:checked~div.sk-toggleable__content {max-height: 200px;max-width: 100%;overflow: auto;}#sk-container-id-1 input.sk-toggleable__control:checked~label.sk-toggleable__label-arrow:before {content: \"▾\";}#sk-container-id-1 div.sk-estimator input.sk-toggleable__control:checked~label.sk-toggleable__label {background-color: #d4ebff;}#sk-container-id-1 div.sk-label input.sk-toggleable__control:checked~label.sk-toggleable__label {background-color: #d4ebff;}#sk-container-id-1 input.sk-hidden--visually {border: 0;clip: rect(1px 1px 1px 1px);clip: rect(1px, 1px, 1px, 1px);height: 1px;margin: -1px;overflow: hidden;padding: 0;position: absolute;width: 1px;}#sk-container-id-1 div.sk-estimator {font-family: monospace;background-color: #f0f8ff;border: 1px dotted black;border-radius: 0.25em;box-sizing: border-box;margin-bottom: 0.5em;}#sk-container-id-1 div.sk-estimator:hover {background-color: #d4ebff;}#sk-container-id-1 div.sk-parallel-item::after {content: \"\";width: 100%;border-bottom: 1px solid gray;flex-grow: 1;}#sk-container-id-1 div.sk-label:hover label.sk-toggleable__label {background-color: #d4ebff;}#sk-container-id-1 div.sk-serial::before {content: \"\";position: absolute;border-left: 1px solid gray;box-sizing: border-box;top: 0;bottom: 0;left: 50%;z-index: 0;}#sk-container-id-1 div.sk-serial {display: flex;flex-direction: column;align-items: center;background-color: white;padding-right: 0.2em;padding-left: 0.2em;position: relative;}#sk-container-id-1 div.sk-item {position: relative;z-index: 1;}#sk-container-id-1 div.sk-parallel {display: flex;align-items: stretch;justify-content: center;background-color: white;position: relative;}#sk-container-id-1 div.sk-item::before, #sk-container-id-1 div.sk-parallel-item::before {content: \"\";position: absolute;border-left: 1px solid gray;box-sizing: border-box;top: 0;bottom: 0;left: 50%;z-index: -1;}#sk-container-id-1 div.sk-parallel-item {display: flex;flex-direction: column;z-index: 1;position: relative;background-color: white;}#sk-container-id-1 div.sk-parallel-item:first-child::after {align-self: flex-end;width: 50%;}#sk-container-id-1 div.sk-parallel-item:last-child::after {align-self: flex-start;width: 50%;}#sk-container-id-1 div.sk-parallel-item:only-child::after {width: 0;}#sk-container-id-1 div.sk-dashed-wrapped {border: 1px dashed gray;margin: 0 0.4em 0.5em 0.4em;box-sizing: border-box;padding-bottom: 0.4em;background-color: white;}#sk-container-id-1 div.sk-label label {font-family: monospace;font-weight: bold;display: inline-block;line-height: 1.2em;}#sk-container-id-1 div.sk-label-container {text-align: center;}#sk-container-id-1 div.sk-container {/* jupyter's `normalize.less` sets `[hidden] { display: none; }` but bootstrap.min.css set `[hidden] { display: none !important; }` so we also need the `!important` here to be able to override the default hidden behavior on the sphinx rendered scikit-learn.org. See: https://github.com/scikit-learn/scikit-learn/issues/21755 */display: inline-block !important;position: relative;}#sk-container-id-1 div.sk-text-repr-fallback {display: none;}</style><div id=\"sk-container-id-1\" class=\"sk-top-container\"><div class=\"sk-text-repr-fallback\"><pre>NearestNeighbors(n_neighbors=2)</pre><b>In a Jupyter environment, please rerun this cell to show the HTML representation or trust the notebook. <br />On GitHub, the HTML representation is unable to render, please try loading this page with nbviewer.org.</b></div><div class=\"sk-container\" hidden><div class=\"sk-item\"><div class=\"sk-estimator sk-toggleable\"><input class=\"sk-toggleable__control sk-hidden--visually\" id=\"sk-estimator-id-1\" type=\"checkbox\" checked><label for=\"sk-estimator-id-1\" class=\"sk-toggleable__label sk-toggleable__label-arrow\">NearestNeighbors</label><div class=\"sk-toggleable__content\"><pre>NearestNeighbors(n_neighbors=2)</pre></div></div></div></div></div>"
      ],
      "text/plain": [
       "NearestNeighbors(n_neighbors=2)"
      ]
     },
     "execution_count": 33,
     "metadata": {},
     "output_type": "execute_result"
    }
   ],
   "source": [
    "neigh_i.fit(X_i)\n",
    "NearestNeighbors(n_neighbors=2)"
   ]
  },
  {
   "cell_type": "code",
   "execution_count": 34,
   "metadata": {
    "colab": {
     "base_uri": "https://localhost:8080/"
    },
    "id": "B9JE_rk4SBS7",
    "outputId": "89ad17d9-1427-4dd6-9d66-b30d133e87e5"
   },
   "outputs": [
    {
     "data": {
      "text/plain": [
       "[323, 67, 68, 72, 170, 11, 298, 143, 306]"
      ]
     },
     "execution_count": 34,
     "metadata": {},
     "output_type": "execute_result"
    }
   ],
   "source": [
    "neighbor_arr = neigh_i.kneighbors(Ex_list, return_distance=False)\n",
    "\n",
    "neighbor_list = neighbor_arr.tolist()\n",
    "\n",
    "control_idx = [element for innerList in neighbor_list for element in innerList]\n",
    "control_idx = set(control_idx)\n",
    "control_idx = list(control_idx)\n",
    "control_idx # Indexes of neighbors in BBHTable\n"
   ]
  },
  {
   "cell_type": "markdown",
   "metadata": {
    "id": "NP1R_lvRmuaG"
   },
   "source": [
    "##Final Control Sample"
   ]
  },
  {
   "cell_type": "code",
   "execution_count": 35,
   "metadata": {
    "colab": {
     "base_uri": "https://localhost:8080/",
     "height": 742
    },
    "id": "RaFZ3M2TVHG2",
    "outputId": "9c40c6b4-a187-4530-a3d6-0ab78cc956f5"
   },
   "outputs": [
    {
     "data": {
      "text/html": [
       "<div>\n",
       "<style scoped>\n",
       "    .dataframe tbody tr th:only-of-type {\n",
       "        vertical-align: middle;\n",
       "    }\n",
       "\n",
       "    .dataframe tbody tr th {\n",
       "        vertical-align: top;\n",
       "    }\n",
       "\n",
       "    .dataframe thead th {\n",
       "        text-align: right;\n",
       "    }\n",
       "</style>\n",
       "<table border=\"1\" class=\"dataframe\">\n",
       "  <thead>\n",
       "    <tr style=\"text-align: right;\">\n",
       "      <th></th>\n",
       "      <th>Entry</th>\n",
       "      <th>SDSS Name</th>\n",
       "      <th>Target Name</th>\n",
       "      <th>Target Descrip</th>\n",
       "      <th>RA (J2000)</th>\n",
       "      <th>Dec (J2000)</th>\n",
       "      <th>z</th>\n",
       "      <th>iMAG</th>\n",
       "      <th>Start Time</th>\n",
       "      <th>Exp Time</th>\n",
       "      <th>Instrument</th>\n",
       "      <th>Filters/Gratings</th>\n",
       "      <th>Central Wavelength</th>\n",
       "      <th>Ang Sep (')</th>\n",
       "      <th>points_lookup</th>\n",
       "    </tr>\n",
       "  </thead>\n",
       "  <tbody>\n",
       "    <tr>\n",
       "      <th>4603</th>\n",
       "      <td>100035.0</td>\n",
       "      <td>IBSZA9010</td>\n",
       "      <td>204956.61-001201.7</td>\n",
       "      <td>J2049-0012</td>\n",
       "      <td>20 49 56.610</td>\n",
       "      <td>-00 12 01.70</td>\n",
       "      <td>0.3693</td>\n",
       "      <td>-24.24</td>\n",
       "      <td>2012-11-14 06:48:23</td>\n",
       "      <td>2611.751</td>\n",
       "      <td>WFC3</td>\n",
       "      <td>F160W</td>\n",
       "      <td>15369.176</td>\n",
       "      <td>0.008</td>\n",
       "      <td>(0.3693, -24.24)</td>\n",
       "    </tr>\n",
       "    <tr>\n",
       "      <th>1253</th>\n",
       "      <td>27704.0</td>\n",
       "      <td>093027.21+240232.7</td>\n",
       "      <td>J0930+2402</td>\n",
       "      <td>GALAXY;QUASAR</td>\n",
       "      <td>09 30 27.210</td>\n",
       "      <td>+24 02 32.74</td>\n",
       "      <td>0.5592</td>\n",
       "      <td>-23.97</td>\n",
       "      <td>2013-12-16 12:31:45</td>\n",
       "      <td>2421.774</td>\n",
       "      <td>WFC3</td>\n",
       "      <td>F160W</td>\n",
       "      <td>15369.176</td>\n",
       "      <td>0.021</td>\n",
       "      <td>(0.5592, -23.97)</td>\n",
       "    </tr>\n",
       "    <tr>\n",
       "      <th>1273</th>\n",
       "      <td>28179.0</td>\n",
       "      <td>093302.68+385228.0</td>\n",
       "      <td>J0933+3852</td>\n",
       "      <td>GALAXY;INTERACTING GALAXY</td>\n",
       "      <td>09 33 02.680</td>\n",
       "      <td>+38 52 16.80</td>\n",
       "      <td>0.1770</td>\n",
       "      <td>-22.61</td>\n",
       "      <td>2012-04-23 17:37:06</td>\n",
       "      <td>2611.751</td>\n",
       "      <td>WFC3</td>\n",
       "      <td>F160W</td>\n",
       "      <td>15369.176</td>\n",
       "      <td>0.190</td>\n",
       "      <td>(0.177, -22.61)</td>\n",
       "    </tr>\n",
       "    <tr>\n",
       "      <th>1377</th>\n",
       "      <td>31575.0</td>\n",
       "      <td>095048.38+392650.4</td>\n",
       "      <td>PG0947+396</td>\n",
       "      <td>GALAXY;QSO</td>\n",
       "      <td>09 50 48.421</td>\n",
       "      <td>+39 26 48.63</td>\n",
       "      <td>0.2057</td>\n",
       "      <td>-24.29</td>\n",
       "      <td>1998-01-07 06:25:03</td>\n",
       "      <td>1023.824</td>\n",
       "      <td>NICMOS</td>\n",
       "      <td>F160W</td>\n",
       "      <td>16059.900</td>\n",
       "      <td>0.035</td>\n",
       "      <td>(0.2057, -24.29)</td>\n",
       "    </tr>\n",
       "    <tr>\n",
       "      <th>2441</th>\n",
       "      <td>52179.0</td>\n",
       "      <td>114933.87+222227.0</td>\n",
       "      <td>REFSDAL2</td>\n",
       "      <td>STAR;GRAVITATIONAL LENS;SUPERNOVA</td>\n",
       "      <td>11 49 34.964</td>\n",
       "      <td>+22 23 27.46</td>\n",
       "      <td>0.5538</td>\n",
       "      <td>-23.97</td>\n",
       "      <td>2015-05-26 06:53:47</td>\n",
       "      <td>1208.807</td>\n",
       "      <td>WFC3</td>\n",
       "      <td>F160W</td>\n",
       "      <td>15369.176</td>\n",
       "      <td>1.039</td>\n",
       "      <td>(0.5538, -23.97)</td>\n",
       "    </tr>\n",
       "    <tr>\n",
       "      <th>193</th>\n",
       "      <td>3816.0</td>\n",
       "      <td>013203.46-093153.6</td>\n",
       "      <td>J0132-0931</td>\n",
       "      <td>GALAXY;INTERACTING GALAXY</td>\n",
       "      <td>01 32 03.460</td>\n",
       "      <td>-09 31 53.60</td>\n",
       "      <td>0.1898</td>\n",
       "      <td>-22.52</td>\n",
       "      <td>2012-05-30 12:43:11</td>\n",
       "      <td>2611.751</td>\n",
       "      <td>WFC3</td>\n",
       "      <td>F160W</td>\n",
       "      <td>15369.176</td>\n",
       "      <td>0.001</td>\n",
       "      <td>(0.1898, -22.52)</td>\n",
       "    </tr>\n",
       "    <tr>\n",
       "      <th>4301</th>\n",
       "      <td>92511.0</td>\n",
       "      <td>160545.92+532210.8</td>\n",
       "      <td>J1605+5322</td>\n",
       "      <td>GALAXY;INTERACTING GALAXY</td>\n",
       "      <td>16 05 45.900</td>\n",
       "      <td>+53 22 10.70</td>\n",
       "      <td>0.1704</td>\n",
       "      <td>-22.62</td>\n",
       "      <td>2012-12-18 18:48:09</td>\n",
       "      <td>2811.753</td>\n",
       "      <td>WFC3</td>\n",
       "      <td>F160W</td>\n",
       "      <td>15369.176</td>\n",
       "      <td>0.010</td>\n",
       "      <td>(0.1704, -22.62)</td>\n",
       "    </tr>\n",
       "    <tr>\n",
       "      <th>2057</th>\n",
       "      <td>40734.0</td>\n",
       "      <td>104133.43-000236.3</td>\n",
       "      <td>J1041-0002</td>\n",
       "      <td>GALAXY;INTERACTING GALAXY</td>\n",
       "      <td>10 41 33.430</td>\n",
       "      <td>-00 02 36.30</td>\n",
       "      <td>0.2355</td>\n",
       "      <td>-22.55</td>\n",
       "      <td>2013-03-22 13:11:26</td>\n",
       "      <td>2611.751</td>\n",
       "      <td>WFC3</td>\n",
       "      <td>F160W</td>\n",
       "      <td>15369.176</td>\n",
       "      <td>0.018</td>\n",
       "      <td>(0.2355, -22.55)</td>\n",
       "    </tr>\n",
       "    <tr>\n",
       "      <th>4391</th>\n",
       "      <td>95702.0</td>\n",
       "      <td>163020.78+375656.4</td>\n",
       "      <td>1628.6+3806</td>\n",
       "      <td>GALAXY;QSO</td>\n",
       "      <td>16 30 20.758</td>\n",
       "      <td>+37 56 58.06</td>\n",
       "      <td>0.3944</td>\n",
       "      <td>-24.33</td>\n",
       "      <td>1997-09-25 17:46:01</td>\n",
       "      <td>2303.767</td>\n",
       "      <td>NICMOS</td>\n",
       "      <td>F160W</td>\n",
       "      <td>16059.900</td>\n",
       "      <td>0.037</td>\n",
       "      <td>(0.3944, -24.33)</td>\n",
       "    </tr>\n",
       "  </tbody>\n",
       "</table>\n",
       "</div>"
      ],
      "text/plain": [
       "         Entry           SDSS Name         Target Name  \\\n",
       "4603  100035.0           IBSZA9010  204956.61-001201.7   \n",
       "1253   27704.0  093027.21+240232.7          J0930+2402   \n",
       "1273   28179.0  093302.68+385228.0          J0933+3852   \n",
       "1377   31575.0  095048.38+392650.4          PG0947+396   \n",
       "2441   52179.0  114933.87+222227.0            REFSDAL2   \n",
       "193     3816.0  013203.46-093153.6          J0132-0931   \n",
       "4301   92511.0  160545.92+532210.8          J1605+5322   \n",
       "2057   40734.0  104133.43-000236.3          J1041-0002   \n",
       "4391   95702.0  163020.78+375656.4         1628.6+3806   \n",
       "\n",
       "                         Target Descrip    RA (J2000)   Dec (J2000)       z  \\\n",
       "4603                         J2049-0012  20 49 56.610  -00 12 01.70  0.3693   \n",
       "1253                      GALAXY;QUASAR  09 30 27.210  +24 02 32.74  0.5592   \n",
       "1273          GALAXY;INTERACTING GALAXY  09 33 02.680  +38 52 16.80  0.1770   \n",
       "1377                         GALAXY;QSO  09 50 48.421  +39 26 48.63  0.2057   \n",
       "2441  STAR;GRAVITATIONAL LENS;SUPERNOVA  11 49 34.964  +22 23 27.46  0.5538   \n",
       "193           GALAXY;INTERACTING GALAXY  01 32 03.460  -09 31 53.60  0.1898   \n",
       "4301          GALAXY;INTERACTING GALAXY  16 05 45.900  +53 22 10.70  0.1704   \n",
       "2057          GALAXY;INTERACTING GALAXY  10 41 33.430  -00 02 36.30  0.2355   \n",
       "4391                         GALAXY;QSO  16 30 20.758  +37 56 58.06  0.3944   \n",
       "\n",
       "       iMAG           Start Time  Exp Time Instrument Filters/Gratings  \\\n",
       "4603 -24.24  2012-11-14 06:48:23  2611.751       WFC3            F160W   \n",
       "1253 -23.97  2013-12-16 12:31:45  2421.774       WFC3            F160W   \n",
       "1273 -22.61  2012-04-23 17:37:06  2611.751       WFC3            F160W   \n",
       "1377 -24.29  1998-01-07 06:25:03  1023.824     NICMOS            F160W   \n",
       "2441 -23.97  2015-05-26 06:53:47  1208.807       WFC3            F160W   \n",
       "193  -22.52  2012-05-30 12:43:11  2611.751       WFC3            F160W   \n",
       "4301 -22.62  2012-12-18 18:48:09  2811.753       WFC3            F160W   \n",
       "2057 -22.55  2013-03-22 13:11:26  2611.751       WFC3            F160W   \n",
       "4391 -24.33  1997-09-25 17:46:01  2303.767     NICMOS            F160W   \n",
       "\n",
       "      Central Wavelength  Ang Sep (')     points_lookup  \n",
       "4603           15369.176        0.008  (0.3693, -24.24)  \n",
       "1253           15369.176        0.021  (0.5592, -23.97)  \n",
       "1273           15369.176        0.190   (0.177, -22.61)  \n",
       "1377           16059.900        0.035  (0.2057, -24.29)  \n",
       "2441           15369.176        1.039  (0.5538, -23.97)  \n",
       "193            15369.176        0.001  (0.1898, -22.52)  \n",
       "4301           15369.176        0.010  (0.1704, -22.62)  \n",
       "2057           15369.176        0.018  (0.2355, -22.55)  \n",
       "4391           16059.900        0.037  (0.3944, -24.33)  "
      ]
     },
     "execution_count": 35,
     "metadata": {},
     "output_type": "execute_result"
    }
   ],
   "source": [
    "#control_sample = lookup_table.loc[lookup_table.index[control_idx]]\n",
    "#control_sample\n",
    "\n",
    "control_sample = table_i.loc[table_i.index[control_idx]]\n",
    "control_sample"
   ]
  },
  {
   "cell_type": "code",
   "execution_count": 36,
   "metadata": {
    "id": "9tgKwurMcVY0"
   },
   "outputs": [],
   "source": [
    "control_sample.to_csv('controlsample.csv', index=False)"
   ]
  },
  {
   "cell_type": "markdown",
   "metadata": {
    "id": "PehJCqkwm20s"
   },
   "source": [
    "##Visualization of Neighbors from BBHTable to Target Data "
   ]
  },
  {
   "cell_type": "code",
   "execution_count": 37,
   "metadata": {
    "colab": {
     "base_uri": "https://localhost:8080/",
     "height": 483
    },
    "id": "8KapyVR2cT-H",
    "outputId": "dc9a8f48-56b2-4c92-ceaa-643758819cb0"
   },
   "outputs": [
    {
     "data": {
      "text/plain": [
       "<matplotlib.legend.Legend at 0x7ff34d4aa530>"
      ]
     },
     "execution_count": 37,
     "metadata": {},
     "output_type": "execute_result"
    },
    {
     "data": {
      "image/png": "[encoded data removed]",
      "text/plain": [
       "<Figure size 900x500 with 1 Axes>"
      ]
     },
     "metadata": {},
     "output_type": "display_data"
    }
   ],
   "source": [
    "figure = plt.figure(figsize=(9,5))\n",
    "plt.plot(targets['z'],targets['MI_Z2'],'v',label='Target')\n",
    "plt.plot(control_sample['z'],control_sample['iMAG'],'o',label='Neighbors from BBHTable')\n",
    "plt.xlabel('Z')\n",
    "plt.ylabel('iMag/MI_Z2')\n",
    "plt.legend()"
   ]
  },
  {
   "cell_type": "code",
   "execution_count": 38,
   "metadata": {
    "colab": {
     "base_uri": "https://localhost:8080/",
     "height": 505
    },
    "id": "6oBA0p_VdE3T",
    "outputId": "7f908921-673d-41f8-b676-816a4df9b3d1"
   },
   "outputs": [
    {
     "data": {
      "text/plain": [
       "Text(0.5, 1.0, 'Redshift Distribution of Control Sample')"
      ]
     },
     "execution_count": 38,
     "metadata": {},
     "output_type": "execute_result"
    },
    {
     "data": {
      "image/png": "[encoded data removed]",
      "text/plain": [
       "<Figure size 900x500 with 1 Axes>"
      ]
     },
     "metadata": {},
     "output_type": "display_data"
    }
   ],
   "source": [
    "figure = plt.figure(figsize=(9,5))\n",
    "plt.hist(control_sample['z'],edgecolor='black',facecolor='green',alpha=0.7)\n",
    "#plt.hist(table_i['z'],alpha=0.2)\n",
    "plt.xlabel('Redshift z')\n",
    "plt.ylabel('Number')\n",
    "plt.title('Redshift Distribution of Control Sample')"
   ]
  },
  {
   "cell_type": "code",
   "execution_count": 39,
   "metadata": {
    "colab": {
     "base_uri": "https://localhost:8080/",
     "height": 505
    },
    "id": "IhVOUAbXrgYr",
    "outputId": "bdc219ae-8cbc-4d7d-f2b4-3edb3d9ecfb6"
   },
   "outputs": [
    {
     "data": {
      "text/plain": [
       "Text(0.5, 1.0, 'iMagnitude Distribution of Control Sample')"
      ]
     },
     "execution_count": 39,
     "metadata": {},
     "output_type": "execute_result"
    },
    {
     "data": {
      "image/png": "[encoded data removed]",
      "text/plain": [
       "<Figure size 900x500 with 1 Axes>"
      ]
     },
     "metadata": {},
     "output_type": "display_data"
    }
   ],
   "source": [
    "figure = plt.figure(figsize=(9,5))\n",
    "plt.hist(control_sample['iMAG'],edgecolor='black',facecolor='orange',alpha=0.6)\n",
    "#plt.hist(table_i['z'],alpha=0.2)\n",
    "plt.xlabel('iMAG')\n",
    "plt.ylabel('Number')\n",
    "plt.title('iMagnitude Distribution of Control Sample')"
   ]
  },
  {
   "cell_type": "markdown",
   "metadata": {
    "id": "a481BEDmxBpX"
   },
   "source": [
    "##Performing the KS Test for Redshift and iMAG of both datasets"
   ]
  },
  {
   "cell_type": "code",
   "execution_count": 40,
   "metadata": {
    "colab": {
     "base_uri": "https://localhost:8080/"
    },
    "id": "PMJ2TyphwuGx",
    "outputId": "1533cd38-fb1f-46da-d7e4-dafb505ee3c3"
   },
   "outputs": [
    {
     "name": "stdout",
     "output_type": "stream",
     "text": [
      "KstestResult(statistic=0.2777777777777778, pvalue=0.8167420814479639, statistic_location=0.3944, statistic_sign=-1)\n"
     ]
    }
   ],
   "source": [
    "from scipy.stats import ks_2samp\n",
    "\n",
    "#perform Kolmogorov-Smirnov test for redshift\n",
    "test_z = ks_2samp(targets['z'], control_sample['z'])\n",
    "print(test_z)"
   ]
  },
  {
   "cell_type": "code",
   "execution_count": 41,
   "metadata": {
    "colab": {
     "base_uri": "https://localhost:8080/"
    },
    "id": "dBrr4qMWxQwn",
    "outputId": "c808c682-4e55-41dc-9b64-4e2c036fefdd"
   },
   "outputs": [
    {
     "data": {
      "text/plain": [
       "KstestResult(statistic=0.16666666666666666, pvalue=0.9973673385438092, statistic_location=-24.003090239133364, statistic_sign=1)"
      ]
     },
     "execution_count": 41,
     "metadata": {},
     "output_type": "execute_result"
    }
   ],
   "source": [
    "#perform Kolmogorov-Smirnov test for magnitude\n",
    "ks_2samp(targets['MI_Z2'], control_sample['iMAG'])"
   ]
  },
  {
   "cell_type": "code",
   "execution_count": null,
   "metadata": {
    "id": "ENsjyiV8xwFJ"
   },
   "outputs": [],
   "source": []
  }
 ],
 "metadata": {
  "colab": {
   "provenance": []
  },
  "kernelspec": {
   "display_name": "Python 3 (ipykernel)",
   "language": "python",
   "name": "python3"
  },
  "language_info": {
   "codemirror_mode": {
    "name": "ipython",
    "version": 3
   },
   "file_extension": ".py",
   "mimetype": "text/x-python",
   "name": "python",
   "nbconvert_exporter": "python",
   "pygments_lexer": "ipython3",
   "version": "3.10.9"
  }
 },
 "nbformat": 4,
 "nbformat_minor": 1
}
