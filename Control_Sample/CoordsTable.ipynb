{
 "cells": [
  {
   "cell_type": "code",
   "execution_count": 1,
   "id": "bd1e5f90",
   "metadata": {},
   "outputs": [],
   "source": [
    "from astropy.table import Table, vstack"
   ]
  },
  {
   "cell_type": "code",
   "execution_count": 2,
   "id": "c6ebec72",
   "metadata": {},
   "outputs": [],
   "source": [
    "def to_latex(tab, outputdir='.', tabname=None, delval='-99.0'):\n",
    "# =============================================================================\n",
    "# Modified version of latex_tab that takes in an astropy table (tab) and spits\n",
    "# out a latex table to a given directory, cutting out a given string value that\n",
    "# represents a desired \"blank\" in the table, default -99 (delval). If None is\n",
    "# passed to delval, no checks for blank values will be performed.\n",
    "# =============================================================================\n",
    "   if tabname is None:\n",
    "      tabname = '%s/fit.tab' % outputdir\n",
    "   else:\n",
    "      tabname = '%s/%s' % (outputdir, tabname)\n",
    "   tab = Table(tab, masked=True)\n",
    "   if delval is not None:\n",
    "      for cn in tab.colnames:\n",
    "         #tab[cn].mask = (tab[cn] == \"-99\") | (tab[cn] == -99)\n",
    "         tab[cn].mask = (tab[cn] == delval) | (tab[cn] == float(delval))\n",
    "   tab.write(tabname, format='latex', overwrite=True)\n",
    "   return"
   ]
  },
  {
   "cell_type": "code",
   "execution_count": 3,
   "id": "d395194c",
   "metadata": {},
   "outputs": [],
   "source": [
    "soi_tab = Table.read('8targets.csv')\n",
    "soi_tab.keep_columns(['name', 'z', 'ra', 'dec'])\n",
    "soi_tab.rename_column('name', 'Name')\n",
    "soi_tab['kind'] = 0\n",
    "con_tab = Table.read('controlsample.csv')\n",
    "con_tab.rename_column('SDSS Name', 'Name')\n",
    "con_tab.keep_columns(['Name', 'z', 'ra', 'dec'])\n",
    "con_tab = con_tab['Name', 'z', 'ra', 'dec']\n",
    "con_tab['kind'] = 1"
   ]
  },
  {
   "cell_type": "code",
   "execution_count": 4,
   "id": "e27407d0",
   "metadata": {},
   "outputs": [
    {
     "data": {
      "text/html": [
       "<div><i>Table length=28</i>\n",
       "<table id=\"table4650857936\" class=\"table-striped table-bordered table-condensed\">\n",
       "<thead><tr><th>Name</th><th>z</th><th>ra</th><th>dec</th><th>kind</th></tr></thead>\n",
       "<thead><tr><th>str18</th><th>float64</th><th>float64</th><th>float64</th><th>int64</th></tr></thead>\n",
       "<tr><td>J0847+3732</td><td>0.4534</td><td>131.816817</td><td>37.5382934</td><td>0</td></tr>\n",
       "<tr><td>J0852+2004</td><td>0.4615</td><td>133.1542374</td><td>20.0697063</td><td>0</td></tr>\n",
       "<tr><td>J0928+6025</td><td>0.2959</td><td>142.1582405</td><td>60.4224843</td><td>0</td></tr>\n",
       "<tr><td>J1112+1813</td><td>0.1952</td><td>168.1287589</td><td>18.2197985</td><td>0</td></tr>\n",
       "<tr><td>J1229-0035</td><td>0.4498</td><td>187.2896753</td><td>-0.5917407</td><td>0</td></tr>\n",
       "<tr><td>J1345+1144</td><td>0.1264</td><td>206.4520522</td><td>11.7453871</td><td>0</td></tr>\n",
       "<tr><td>J1410+3643</td><td>0.4495</td><td>212.5857431</td><td>36.722997</td><td>0</td></tr>\n",
       "<tr><td>J1537+0055</td><td>0.1365</td><td>234.2748051</td><td>0.9229983</td><td>0</td></tr>\n",
       "<tr><td>003516.88-104731.2</td><td>0.7967</td><td>8.820333333333332</td><td>-10.792</td><td>1</td></tr>\n",
       "<tr><td>...</td><td>...</td><td>...</td><td>...</td><td>...</td></tr>\n",
       "<tr><td>111800.12+233651.5</td><td>0.3814</td><td>169.5005</td><td>23.614305555555557</td><td>1</td></tr>\n",
       "<tr><td>114744.11-014601.5</td><td>0.5531</td><td>176.93379166666665</td><td>-1.7670833333333333</td><td>1</td></tr>\n",
       "<tr><td>121114.56+365739.5</td><td>0.1709</td><td>182.81066666666663</td><td>36.960972222222225</td><td>1</td></tr>\n",
       "<tr><td>121118.66+143810.4</td><td>0.5804</td><td>182.82774999999998</td><td>14.636222222222221</td><td>1</td></tr>\n",
       "<tr><td>144825.09+355946.6</td><td>0.1131</td><td>222.10454166666665</td><td>35.99627777777778</td><td>1</td></tr>\n",
       "<tr><td>160545.92+532210.8</td><td>0.1704</td><td>241.44133333333326</td><td>53.36966666666667</td><td>1</td></tr>\n",
       "<tr><td>204956.61-001201.7</td><td>0.3693</td><td>312.48587499999996</td><td>-0.20047222222222225</td><td>1</td></tr>\n",
       "<tr><td>210927.29-061015.1</td><td>0.5724</td><td>317.3637083333333</td><td>-6.170861111111112</td><td>1</td></tr>\n",
       "<tr><td>213026.74-070320.6</td><td>0.1841</td><td>322.6114166666666</td><td>-7.055722222222222</td><td>1</td></tr>\n",
       "<tr><td>214000.49+120914.6</td><td>0.7518</td><td>325.0020416666666</td><td>12.154055555555557</td><td>1</td></tr>\n",
       "</table></div>"
      ],
      "text/plain": [
       "<Table length=28>\n",
       "       Name           z            ra                 dec           kind\n",
       "      str18        float64      float64             float64        int64\n",
       "------------------ ------- ------------------ -------------------- -----\n",
       "        J0847+3732  0.4534         131.816817           37.5382934     0\n",
       "        J0852+2004  0.4615        133.1542374           20.0697063     0\n",
       "        J0928+6025  0.2959        142.1582405           60.4224843     0\n",
       "        J1112+1813  0.1952        168.1287589           18.2197985     0\n",
       "        J1229-0035  0.4498        187.2896753           -0.5917407     0\n",
       "        J1345+1144  0.1264        206.4520522           11.7453871     0\n",
       "        J1410+3643  0.4495        212.5857431            36.722997     0\n",
       "        J1537+0055  0.1365        234.2748051            0.9229983     0\n",
       "003516.88-104731.2  0.7967  8.820333333333332              -10.792     1\n",
       "               ...     ...                ...                  ...   ...\n",
       "111800.12+233651.5  0.3814           169.5005   23.614305555555557     1\n",
       "114744.11-014601.5  0.5531 176.93379166666665  -1.7670833333333333     1\n",
       "121114.56+365739.5  0.1709 182.81066666666663   36.960972222222225     1\n",
       "121118.66+143810.4  0.5804 182.82774999999998   14.636222222222221     1\n",
       "144825.09+355946.6  0.1131 222.10454166666665    35.99627777777778     1\n",
       "160545.92+532210.8  0.1704 241.44133333333326    53.36966666666667     1\n",
       "204956.61-001201.7  0.3693 312.48587499999996 -0.20047222222222225     1\n",
       "210927.29-061015.1  0.5724  317.3637083333333   -6.170861111111112     1\n",
       "213026.74-070320.6  0.1841  322.6114166666666   -7.055722222222222     1\n",
       "214000.49+120914.6  0.7518  325.0020416666666   12.154055555555557     1"
      ]
     },
     "execution_count": 4,
     "metadata": {},
     "output_type": "execute_result"
    }
   ],
   "source": [
    "comb_tab = vstack([soi_tab, con_tab])\n",
    "comb_tab"
   ]
  },
  {
   "cell_type": "code",
   "execution_count": 5,
   "id": "527b79e2",
   "metadata": {},
   "outputs": [],
   "source": [
    "to_latex(comb_tab, tabname='coords.tab')"
   ]
  },
  {
   "cell_type": "code",
   "execution_count": null,
   "id": "d562ba50",
   "metadata": {},
   "outputs": [],
   "source": []
  }
 ],
 "metadata": {
  "kernelspec": {
   "display_name": "Python [conda env:fabulovs-hst2] *",
   "language": "python",
   "name": "conda-env-fabulovs-hst2-py"
  },
  "language_info": {
   "codemirror_mode": {
    "name": "ipython",
    "version": 3
   },
   "file_extension": ".py",
   "mimetype": "text/x-python",
   "name": "python",
   "nbconvert_exporter": "python",
   "pygments_lexer": "ipython3",
   "version": "3.11.9"
  }
 },
 "nbformat": 4,
 "nbformat_minor": 5
}
